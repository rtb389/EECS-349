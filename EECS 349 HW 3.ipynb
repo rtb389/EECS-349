{
 "cells": [
  {
   "cell_type": "code",
   "execution_count": 1,
   "metadata": {
    "collapsed": false
   },
   "outputs": [],
   "source": [
    "#\tStarter code for linear regression problem\n",
    "#\tBelow are all the modules that you'll need to have working to complete this problem\n",
    "#\tSome helpful functions: np.polyfit, scipy.polyval, zip, np.random.shuffle, np.argmin, np.sum, plt.boxplot, plt.subplot, plt.figure, plt.title\n",
    "import sys\n",
    "import csv\n",
    "import numpy as np\n",
    "import scipy\n",
    "import matplotlib.pyplot as plt\n",
    "import random as rd"
   ]
  },
  {
   "cell_type": "code",
   "execution_count": 3,
   "metadata": {
    "collapsed": false
   },
   "outputs": [
    {
     "ename": "ValueError",
     "evalue": "invalid literal for int() with base 10: 'C:\\\\Users\\\\Robert\\\\AppData\\\\Roaming\\\\jupyter\\\\runtime\\\\kernel-9c18b625-5707-48a1-a663-3753675b935f.json'",
     "output_type": "error",
     "traceback": [
      "\u001b[1;31m---------------------------------------------------------------------------\u001b[0m",
      "\u001b[1;31mValueError\u001b[0m                                Traceback (most recent call last)",
      "\u001b[1;32m<ipython-input-3-5b114a111471>\u001b[0m in \u001b[0;36m<module>\u001b[1;34m()\u001b[0m\n\u001b[0;32m     20\u001b[0m \u001b[1;33m\u001b[0m\u001b[0m\n\u001b[0;32m     21\u001b[0m \u001b[1;32mif\u001b[0m \u001b[0m__name__\u001b[0m \u001b[1;33m==\u001b[0m \u001b[1;34m\"__main__\"\u001b[0m\u001b[1;33m:\u001b[0m\u001b[1;33m\u001b[0m\u001b[0m\n\u001b[1;32m---> 22\u001b[1;33m         \u001b[0mmain\u001b[0m\u001b[1;33m(\u001b[0m\u001b[1;33m)\u001b[0m\u001b[1;33m\u001b[0m\u001b[0m\n\u001b[0m",
      "\u001b[1;32m<ipython-input-3-5b114a111471>\u001b[0m in \u001b[0;36mmain\u001b[1;34m()\u001b[0m\n\u001b[0;32m      2\u001b[0m         \u001b[1;31m# read in system arguments, first the csv file, max degree fit, number of folds, verbose\u001b[0m\u001b[1;33m\u001b[0m\u001b[1;33m\u001b[0m\u001b[0m\n\u001b[0;32m      3\u001b[0m         \u001b[0mrfile\u001b[0m \u001b[1;33m=\u001b[0m \u001b[0msys\u001b[0m\u001b[1;33m.\u001b[0m\u001b[0margv\u001b[0m\u001b[1;33m[\u001b[0m\u001b[1;36m1\u001b[0m\u001b[1;33m]\u001b[0m\u001b[1;33m\u001b[0m\u001b[0m\n\u001b[1;32m----> 4\u001b[1;33m         \u001b[0mmaxK\u001b[0m \u001b[1;33m=\u001b[0m \u001b[0mint\u001b[0m\u001b[1;33m(\u001b[0m\u001b[0msys\u001b[0m\u001b[1;33m.\u001b[0m\u001b[0margv\u001b[0m\u001b[1;33m[\u001b[0m\u001b[1;36m2\u001b[0m\u001b[1;33m]\u001b[0m\u001b[1;33m)\u001b[0m\u001b[1;33m\u001b[0m\u001b[0m\n\u001b[0m\u001b[0;32m      5\u001b[0m         \u001b[0mnFolds\u001b[0m \u001b[1;33m=\u001b[0m \u001b[0mint\u001b[0m\u001b[1;33m(\u001b[0m\u001b[0msys\u001b[0m\u001b[1;33m.\u001b[0m\u001b[0margv\u001b[0m\u001b[1;33m[\u001b[0m\u001b[1;36m3\u001b[0m\u001b[1;33m]\u001b[0m\u001b[1;33m)\u001b[0m\u001b[1;33m\u001b[0m\u001b[0m\n\u001b[0;32m      6\u001b[0m         \u001b[0mverbose\u001b[0m \u001b[1;33m=\u001b[0m \u001b[0mbool\u001b[0m\u001b[1;33m(\u001b[0m\u001b[0msys\u001b[0m\u001b[1;33m.\u001b[0m\u001b[0margv\u001b[0m\u001b[1;33m[\u001b[0m\u001b[1;36m4\u001b[0m\u001b[1;33m]\u001b[0m\u001b[1;33m)\u001b[0m\u001b[1;33m\u001b[0m\u001b[0m\n",
      "\u001b[1;31mValueError\u001b[0m: invalid literal for int() with base 10: 'C:\\\\Users\\\\Robert\\\\AppData\\\\Roaming\\\\jupyter\\\\runtime\\\\kernel-9c18b625-5707-48a1-a663-3753675b935f.json'"
     ]
    }
   ],
   "source": [
    "def main():\n",
    "\t# read in system arguments, first the csv file, max degree fit, number of folds, verbose\n",
    "\trfile = sys.argv[1]\n",
    "\tmaxK = int(sys.argv[2])\n",
    "\tnFolds = int(sys.argv[3])\n",
    "\tverbose = bool(int(sys.argv[4]))\n",
    "\t\n",
    "\tcsvfile = open(rfile, 'rb')\n",
    "\tdat = csv.reader(csvfile, delimiter=',')\n",
    "\tX = []\n",
    "\tY = []\n",
    "\t# put the x coordinates in the list X, the y coordinates in the list Y\n",
    "\tfor i, row in enumerate(dat):\n",
    "\t\tif i > 0:\n",
    "\t\t\tX.append(float(row[0]))\n",
    "\t\t\tY.append(float(row[1]))\n",
    "\tX = np.array(X)\n",
    "\tY = np.array(Y)\n",
    "\tnfoldpolyfit(X, Y, maxK, nFolds, verbose)\n",
    "\n",
    "if __name__ == \"__main__\":\n",
    "\tmain()\n"
   ]
  },
  {
   "cell_type": "code",
   "execution_count": 26,
   "metadata": {
    "collapsed": true
   },
   "outputs": [],
   "source": [
    "def nfoldpolyfit(X, Y, maxK, n, verbose):\n",
    "#\tNFOLDPOLYFIT Fit polynomial of the best degree to data.\n",
    "#   NFOLDPOLYFIT(X,Y,maxDegree, nFold, verbose) finds and returns the coefficients \n",
    "#   of a polynomial P(X) of a degree between 1 and N that fits the data Y \n",
    "#   best in a least-squares sense, averaged over nFold trials of cross validation.\n",
    "#\n",
    "#   P is a vector (in numpy) of length N+1 containing the polynomial coefficients in\n",
    "#   descending powers, P(1)*X^N + P(2)*X^(N-1) +...+ P(N)*X + P(N+1). use\n",
    "#   numpy.polyval(P,Z) for some vector of input Z to see the output.\n",
    "#\n",
    "#   X and Y are vectors of datapoints specifying  input (X) and output (Y)\n",
    "#   of the function to be learned. Class support for inputs X,Y: \n",
    "#   float, double, single\n",
    "#\n",
    "#   maxDegree is the highest degree polynomial to be tried. For example, if\n",
    "#   maxDegree = 3, then polynomials of degree 0, 1, 2, 3 would be tried.\n",
    "#\n",
    "#   nFold sets the number of folds in nfold cross validation when finding\n",
    "#   the best polynomial. Data is split into n parts and the polynomial is run n\n",
    "#   times for each degree: testing on 1/n data points and training on the\n",
    "#   rest.\n",
    "#\n",
    "#   verbose, if set to 1 shows mean squared error as a function of the \n",
    "#   degrees of the polynomial on one plot, and displays the fit of the best\n",
    "#   polynomial to the data in a second plot.\n",
    "#   \n",
    "#\n",
    "#   AUTHOR: Robert Tom\n",
    "#\n",
    "    #Randomly shuffles data\n",
    "    Z = zip(X,Y)\n",
    "    rd.shuffle(Z)\n",
    "    X,Y = zip(*Z)\n",
    "    \n",
    "    best_mse = 100\n",
    "    best_k = 0\n",
    "    best_fits = []\n",
    "    mse_lists = []\n",
    "\n",
    "    for i in range (maxK+1):\n",
    "        mse_list = []\n",
    "        fits = []\n",
    "        for j in range(n):\n",
    "            X_test = X[j*(len(X)/n):(j+1)*(len(X)/n)]\n",
    "            X_train = np.append(X[0:j*(len(X)/n)],X[(j+1)*(len(X)/n):])\n",
    "\n",
    "            Y_test = Y[j*(len(X)/n):(j+1)*(len(X)/n)]\n",
    "            Y_train = np.append(Y[0:j*(len(X)/n)],Y[(j+1)*(len(X)/n):])\n",
    "\n",
    "            fit = np.polyfit(X_train,Y_train,i)\n",
    "\n",
    "            #Get the values from polyfit\n",
    "            ybar = np.polyval(fit,X_test)\n",
    "            #Calculate mse\n",
    "            mse = np.mean((Y_test-ybar)**2)\n",
    "\n",
    "            mse_list.append(mse)\n",
    "            fits.append(fit)\n",
    "\n",
    "        mse_lists.append(mse_list)\n",
    "\n",
    "        mean_mse = np.mean(mse_list)\n",
    "        if mean_mse < best_mse:\n",
    "            best_k = i\n",
    "            best_mse = mean_mse\n",
    "            best_fits = fits\n",
    "    \n",
    "    #Find best mse value\n",
    "    best_i = 0\n",
    "    best_mse = 100\n",
    "    for i in range(len(mse_lists[best_k-1])):\n",
    "        if mse_lists[best_k-1][i] < best_mse:\n",
    "            best_mse = mse_lists[best_k-1][i]\n",
    "            best_i = i\n",
    "\n",
    "    if verbose:\n",
    "        plt.plot(range(len(mse_lists)),map(lambda x:np.mean(x),mse_lists),'bo-')\n",
    "        plt.title('MSE vs degree of polynomial')\n",
    "        plt.xlabel('Degree')\n",
    "        plt.ylabel('MSE')\n",
    "        plt.show()\n",
    "        \n",
    "        f = np.poly1d(best_fits[best_i])\n",
    "        x = np.linspace(min(X),max(X))\n",
    "        plt.plot(X,Y,'b.',x,f(x),'r-')\n",
    "        plt.title('Actual data vs predicted data')\n",
    "        plt.xlabel('X')\n",
    "        plt.ylabel('Y')\n",
    "        plt.legend(['Actual','Predicted'],loc='upper right')\n",
    "        plt.show()\n",
    "        \n",
    "    return best_fits[best_i]"
   ]
  },
  {
   "cell_type": "code",
   "execution_count": 8,
   "metadata": {
    "collapsed": false
   },
   "outputs": [
    {
     "data": {
      "text/plain": [
       "[(1, 0, 2), (2, 1, 3)]"
      ]
     },
     "execution_count": 8,
     "metadata": {},
     "output_type": "execute_result"
    }
   ],
   "source": [
    "l1 = [0,1,2]\n",
    "l2 = [1,2,3]\n",
    "l3 = zip(l1,l2)\n",
    "rd.shuffle(l3)\n",
    "zip(*l3)"
   ]
  },
  {
   "cell_type": "code",
   "execution_count": 8,
   "metadata": {
    "collapsed": false
   },
   "outputs": [],
   "source": [
    "plt.plot(np.array([1,2,3,4]),np.array([2,3,4,5]),'b.',np.array([1,2,3,4]),np.array([2,4,6,7]),'r',ms=10)\n",
    "plt.title('Actual data vs predicted data')\n",
    "plt.xlabel('X')\n",
    "plt.ylabel('Y')\n",
    "plt.legend(['Actual','Predicted'],loc='upper right')\n",
    "plt.show()"
   ]
  },
  {
   "cell_type": "code",
   "execution_count": 27,
   "metadata": {
    "collapsed": false
   },
   "outputs": [
    {
     "data": {
      "text/plain": [
       "array([-4.27585133,  1.78060199,  0.60676265, -0.36570065,  0.81221865,\n",
       "        0.07404558])"
      ]
     },
     "execution_count": 27,
     "metadata": {},
     "output_type": "execute_result"
    }
   ],
   "source": [
    "rfile = 'bitbootcamp/linearreg.csv'\n",
    "csvfile = open(rfile, 'rb')\n",
    "dat = csv.reader(csvfile, delimiter=',')\n",
    "X = []\n",
    "Y = []\n",
    "# put the x coordinates in the list X, the y coordinates in the list Y\n",
    "for i, row in enumerate(dat):\n",
    "\tif i > 0:\n",
    "\t\tX.append(float(row[0]))\n",
    "\t\tY.append(float(row[1]))\n",
    "X = np.array(X)\n",
    "Y = np.array(Y)\n",
    "nfoldpolyfit(X, Y, 6, 5, 1)"
   ]
  },
  {
   "cell_type": "code",
   "execution_count": 29,
   "metadata": {
    "collapsed": false
   },
   "outputs": [],
   "source": [
    "%matplotlib inline"
   ]
  },
  {
   "cell_type": "code",
   "execution_count": 106,
   "metadata": {
    "collapsed": false
   },
   "outputs": [
    {
     "data": {
      "image/png": "[encoded data removed]",
      "text/plain": [
       "<matplotlib.figure.Figure at 0x7ecb2b0>"
      ]
     },
     "metadata": {},
     "output_type": "display_data"
    }
   ],
   "source": [
    "x = np.linspace(0,14)\n",
    "f = np.poly1d([0.125,-0.25])\n",
    "f2 = np.poly1d([0.5])\n",
    "plt.figure(figsize=(5,5))\n",
    "plt.plot(range(1,5),np.zeros(4),'b.',range(8,12),np.ones(4),'g.',x,f(x),'r-',x,f2(x),'m--',[6,6,6],[1.5,0.5,-0.5],'m--',ms = 15)\n",
    "plt.plot([6],[0.5],'m.',ms=20)\n",
    "plt.annotate('Decision Boundary',xy=(6,1),xytext=(0,1),arrowprops=dict(facecolor='black',shrink=0.05),)\n",
    "plt.annotate('Regression Line',xy=(8,0.75),xytext=(8,0.25),arrowprops=dict(facecolor='black',shrink=0.05),)\n",
    "plt.savefig('bitbootcamp/EECS349HW3-1')\n",
    "plt.show()"
   ]
  },
  {
   "cell_type": "code",
   "execution_count": 108,
   "metadata": {
    "collapsed": false
   },
   "outputs": [
    {
     "data": {
      "image/png": "[encoded data removed]",
      "text/plain": [
       "<matplotlib.figure.Figure at 0x9e62ef0>"
      ]
     },
     "metadata": {},
     "output_type": "display_data"
    }
   ],
   "source": [
    "x = np.linspace(0,20)\n",
    "f = np.poly1d([0.1,-0.25])\n",
    "f2 = np.poly1d([0.5])\n",
    "plt.figure(figsize=(5,5))\n",
    "plt.plot(range(1,5),np.zeros(4),'b.',range(8,12)+[20],np.ones(5),'g.',x,f(x),'r-',x,f2(x),'m--',[7.5,7.5,7.5],[2,0.5,-0.5],'m--',ms = 15)\n",
    "plt.plot([7.5],[0.5],'m.',ms=20)\n",
    "plt.annotate('Decision Boundary',xy=(7.5,1.5),xytext=(10,1.5),arrowprops=dict(facecolor='black',shrink=0.05),)\n",
    "plt.annotate('Regression Line',xy=(12,.95),xytext=(12,0.3),arrowprops=dict(facecolor='black',shrink=0.05),)\n",
    "plt.xlim(0,21)\n",
    "plt.savefig('bitbootcamp/EECS349HW3-2')\n",
    "plt.show()"
   ]
  },
  {
   "cell_type": "code",
   "execution_count": null,
   "metadata": {
    "collapsed": true
   },
   "outputs": [],
   "source": []
  },
  {
   "cell_type": "code",
   "execution_count": 4,
   "metadata": {
    "collapsed": false
   },
   "outputs": [
    {
     "ename": "IOError",
     "evalue": "[Errno 2] No such file or directory: '-f'",
     "output_type": "error",
     "traceback": [
      "\u001b[1;31m---------------------------------------------------------------------------\u001b[0m",
      "\u001b[1;31mIOError\u001b[0m                                   Traceback (most recent call last)",
      "\u001b[1;32m<ipython-input-4-52bbc64475b2>\u001b[0m in \u001b[0;36m<module>\u001b[1;34m()\u001b[0m\n\u001b[0;32m     29\u001b[0m \u001b[1;33m\u001b[0m\u001b[0m\n\u001b[0;32m     30\u001b[0m \u001b[1;32mif\u001b[0m \u001b[0m__name__\u001b[0m \u001b[1;33m==\u001b[0m \u001b[1;34m\"__main__\"\u001b[0m\u001b[1;33m:\u001b[0m\u001b[1;33m\u001b[0m\u001b[0m\n\u001b[1;32m---> 31\u001b[1;33m         \u001b[0mmain\u001b[0m\u001b[1;33m(\u001b[0m\u001b[1;33m)\u001b[0m\u001b[1;33m\u001b[0m\u001b[0m\n\u001b[0m",
      "\u001b[1;32m<ipython-input-4-52bbc64475b2>\u001b[0m in \u001b[0;36mmain\u001b[1;34m()\u001b[0m\n\u001b[0;32m      8\u001b[0m \u001b[1;33m\u001b[0m\u001b[0m\n\u001b[0;32m      9\u001b[0m         \u001b[1;31m#read in csv file into np.arrays X1, X2, Y1, Y2\u001b[0m\u001b[1;33m\u001b[0m\u001b[1;33m\u001b[0m\u001b[0m\n\u001b[1;32m---> 10\u001b[1;33m         \u001b[0mcsvfile\u001b[0m \u001b[1;33m=\u001b[0m \u001b[0mopen\u001b[0m\u001b[1;33m(\u001b[0m\u001b[0mrfile\u001b[0m\u001b[1;33m,\u001b[0m \u001b[1;34m'rb'\u001b[0m\u001b[1;33m)\u001b[0m\u001b[1;33m\u001b[0m\u001b[0m\n\u001b[0m\u001b[0;32m     11\u001b[0m         \u001b[0mdat\u001b[0m \u001b[1;33m=\u001b[0m \u001b[0mcsv\u001b[0m\u001b[1;33m.\u001b[0m\u001b[0mreader\u001b[0m\u001b[1;33m(\u001b[0m\u001b[0mcsvfile\u001b[0m\u001b[1;33m,\u001b[0m \u001b[0mdelimiter\u001b[0m\u001b[1;33m=\u001b[0m\u001b[1;34m','\u001b[0m\u001b[1;33m)\u001b[0m\u001b[1;33m\u001b[0m\u001b[0m\n\u001b[0;32m     12\u001b[0m         \u001b[0mX1\u001b[0m \u001b[1;33m=\u001b[0m \u001b[1;33m[\u001b[0m\u001b[1;33m]\u001b[0m\u001b[1;33m\u001b[0m\u001b[0m\n",
      "\u001b[1;31mIOError\u001b[0m: [Errno 2] No such file or directory: '-f'"
     ]
    }
   ],
   "source": [
    "import sys\n",
    "import csv\n",
    "import numpy as np\n",
    "import scipy\n",
    "\n",
    "def main():\n",
    "\trfile = sys.argv[1]\n",
    "\t\n",
    "\t#read in csv file into np.arrays X1, X2, Y1, Y2\n",
    "\tcsvfile = open(rfile, 'rb')\n",
    "\tdat = csv.reader(csvfile, delimiter=',')\n",
    "\tX1 = []\n",
    "\tY1 = []\n",
    "\tX2 = []\n",
    "\tY2 = []\n",
    "\tfor i, row in enumerate(dat):\n",
    "\t\tif i > 0:\n",
    "\t\t\tX1.append(float(row[0]))\n",
    "\t\t\tX2.append(float(row[1]))\n",
    "\t\t\tY1.append(float(row[2]))\n",
    "\t\t\tY2.append(float(row[3]))\n",
    "\tX1 = np.array(X1)\n",
    "\tX2 = np.array(X2)\n",
    "\tY1 = np.array(Y1)\n",
    "\tY2 = np.array(Y2)\n",
    "\tw_init = 1 # INTIALIZE W_INIT\n",
    "\tperceptrona(w_init, X1, Y1)\n",
    "\tperceptrona(w_init, X2, Y2)\n",
    "\n",
    "if __name__ == \"__main__\":\n",
    "\tmain()"
   ]
  },
  {
   "cell_type": "code",
   "execution_count": 22,
   "metadata": {
    "collapsed": false
   },
   "outputs": [],
   "source": [
    "def perceptrona(w_init, X, Y):\n",
    "    #figure out (w, k) and return them here. w is the vector of weights, k is how many iterations it took to converge.\n",
    "    #\tperceptrona Find a weight vector to separate the given data into binary classes\n",
    "    #   perceptrona(w_init, X, Y) uses an initial weight vector for the hyperplane, and outputs \n",
    "    #   a weight vector of a separating hyperplane, as well as the number of iterations to convergence\n",
    "    #\n",
    "    #   w_init is a vector first containing the negative of the threshold, then the rest being the weights of the hyperplane\n",
    "    #\n",
    "    #   X and Y are vectors of datapoints specifying  input (X) and output (Y)\n",
    "    #   of the function to be learned. Class support for inputs X,Y: \n",
    "    #   float, double, single\n",
    "    #\n",
    "    #   AUTHOR: Robert Tom\n",
    "    #\n",
    "    \n",
    "    w = w_init\n",
    "    k = 0\n",
    "    m = len(X)\n",
    "    X = map(lambda x:np.append(1,x),X)\n",
    "    \n",
    "    error = True\n",
    "    \n",
    "    while (error):\n",
    "        i = k%m\n",
    "        if sum(w*X[i])*Y[i]<0:\n",
    "            w+=X[i]*Y[i]\n",
    "            if (np.all(map(lambda x:sum(w*x),X)*Y>0)):\n",
    "                error = False\n",
    "        k+=1\n",
    "    \n",
    "    return (w, int(np.ceil(float(k/m))))"
   ]
  },
  {
   "cell_type": "code",
   "execution_count": 23,
   "metadata": {
    "collapsed": false
   },
   "outputs": [
    {
     "data": {
      "text/plain": [
       "(array([-10.     ,   3.60014]), 4)"
      ]
     },
     "execution_count": 23,
     "metadata": {},
     "output_type": "execute_result"
    }
   ],
   "source": [
    "perceptrona([-1,1],X1,Y1)"
   ]
  },
  {
   "cell_type": "code",
   "execution_count": null,
   "metadata": {
    "collapsed": true
   },
   "outputs": [],
   "source": []
  },
  {
   "cell_type": "code",
   "execution_count": 5,
   "metadata": {
    "collapsed": false
   },
   "outputs": [
    {
     "data": {
      "image/png": "[encoded data removed]",
      "text/plain": [
       "<matplotlib.figure.Figure at 0x70294a8>"
      ]
     },
     "metadata": {},
     "output_type": "display_data"
    }
   ],
   "source": [
    "%matplotlib inline\n",
    "rfile = 'bitbootcamp/linearclass.csv'\n",
    "csvfile = open(rfile, 'rb')\n",
    "dat = csv.reader(csvfile, delimiter=',')\n",
    "X1 = []\n",
    "Y1 = []\n",
    "X2 = []\n",
    "Y2 = []\n",
    "for i, row in enumerate(dat):\n",
    "\tif i > 0:\n",
    "\t\tX1.append(float(row[0]))\n",
    "\t\tX2.append(float(row[1]))\n",
    "\t\tY1.append(float(row[2]))\n",
    "\t\tY2.append(float(row[3]))\n",
    "X1 = np.array(X1)\n",
    "X2 = np.array(X2)\n",
    "Y1 = np.array(Y1)\n",
    "Y2 = np.array(Y2)\n",
    "\n",
    "plt.plot(X2,Y2,'b.')\n",
    "plt.show()"
   ]
  },
  {
   "cell_type": "code",
   "execution_count": 8,
   "metadata": {
    "collapsed": false
   },
   "outputs": [
    {
     "data": {
      "image/png": "[encoded data removed]",
      "text/plain": [
       "<matplotlib.figure.Figure at 0x70c82b0>"
      ]
     },
     "metadata": {},
     "output_type": "display_data"
    }
   ],
   "source": [
    "plt.plot(X1,Y1,'b.')\n",
    "plt.show()"
   ]
  },
  {
   "cell_type": "code",
   "execution_count": null,
   "metadata": {
    "collapsed": false
   },
   "outputs": [],
   "source": []
  },
  {
   "cell_type": "code",
   "execution_count": 9,
   "metadata": {
    "collapsed": false
   },
   "outputs": [
    {
     "data": {
      "image/png": "[encoded data removed]",
      "text/plain": [
       "<matplotlib.figure.Figure at 0x7323208>"
      ]
     },
     "metadata": {},
     "output_type": "display_data"
    }
   ],
   "source": [
    "plt.plot(map(lambda x: 3.60014*x,X1),Y1,'b.')\n",
    "plt.show()"
   ]
  },
  {
   "cell_type": "code",
   "execution_count": null,
   "metadata": {
    "collapsed": true
   },
   "outputs": [],
   "source": []
  },
  {
   "cell_type": "code",
   "execution_count": null,
   "metadata": {
    "collapsed": true
   },
   "outputs": [],
   "source": [
    "###################STILL HAVEN'T FIXED PERCEPTRON C##############################"
   ]
  },
  {
   "cell_type": "code",
   "execution_count": 24,
   "metadata": {
    "collapsed": false
   },
   "outputs": [],
   "source": [
    "def perceptronc(w_init, X, Y):\n",
    "    #figure out (w, k) and return them here. w is the vector of weights, k is how many iterations it took to converge.\n",
    "    #\tperceptrona Find a weight vector to separate the given data into binary classes\n",
    "    #   perceptrona(w_init, X, Y) uses an initial weight vector for the hyperplane, and outputs \n",
    "    #   a weight vector of a separating hyperplane, as well as the number of iterations to convergence\n",
    "    #\n",
    "    #\tUses an extra quadratic term to help separate non-linearly separable data\n",
    "    #\n",
    "    #   w_init is a scalar which will be the initial value for the weight vector (scalar since data is univariate)\n",
    "    #\n",
    "    #   X and Y are vectors of datapoints specifying  input (X) and output (Y)\n",
    "    #   of the function to be learned. Class support for inputs X,Y: \n",
    "    #   float, double, single\n",
    "    #\n",
    "    #   AUTHOR: Robert Tom\n",
    "    #\n",
    "    \n",
    "    w = w_init\n",
    "    k = 0\n",
    "    m = len(X)\n",
    "    X = map(lambda x:np.array([1,x,x**2]),X)\n",
    "    error = True\n",
    "    \n",
    "    while (error):\n",
    "        i = k%m\n",
    "        if sum(w*X[i])*Y[i]<0:\n",
    "            w+=X[i]*Y[i]\n",
    "            if (np.all(map(lambda x:sum(w*x),X)*Y>0)):\n",
    "                error = False\n",
    "        k+=1\n",
    "    \n",
    "    return (w, int(np.ceil(float(k/m))))"
   ]
  },
  {
   "cell_type": "code",
   "execution_count": 26,
   "metadata": {
    "collapsed": false
   },
   "outputs": [
    {
     "data": {
      "text/plain": [
       "(array([-51.        ,  76.2595925 , -25.40051179]), 734)"
      ]
     },
     "execution_count": 26,
     "metadata": {},
     "output_type": "execute_result"
    }
   ],
   "source": [
    "perceptronc([-1,-1,-1],X2,Y2)"
   ]
  },
  {
   "cell_type": "code",
   "execution_count": 27,
   "metadata": {
    "collapsed": false
   },
   "outputs": [
    {
     "data": {
      "image/png": "[encoded data removed]",
      "text/plain": [
       "<matplotlib.figure.Figure at 0x768d978>"
      ]
     },
     "metadata": {},
     "output_type": "display_data"
    }
   ],
   "source": [
    "plt.plot(map(lambda x: -51+76.2595925*x-25.40051179*x**2,X2),Y2,'b.')\n",
    "plt.show()"
   ]
  },
  {
   "cell_type": "code",
   "execution_count": null,
   "metadata": {
    "collapsed": false
   },
   "outputs": [],
   "source": []
  },
  {
   "cell_type": "code",
   "execution_count": null,
   "metadata": {
    "collapsed": false
   },
   "outputs": [],
   "source": []
  },
  {
   "cell_type": "code",
   "execution_count": null,
   "metadata": {
    "collapsed": false
   },
   "outputs": [],
   "source": []
  },
  {
   "cell_type": "code",
   "execution_count": null,
   "metadata": {
    "collapsed": true
   },
   "outputs": [],
   "source": [
    "CONCEPTS:\n",
    "    \n",
    "SVM (know about kernels)\n",
    "Perceptrons\n",
    "inductive biases\n",
    "decision trees (binary)\n",
    "knn\n",
    "linear regression\n",
    "poly regression\n",
    "gradient descent\n",
    "cross validation\n",
    "lazy and eager learners\n",
    "\n",
    "metric vs. not metric\n",
    "concept/hypothesis/version space"
   ]
  }
 ],
 "metadata": {
  "kernelspec": {
   "display_name": "Python 2",
   "language": "python",
   "name": "python2"
  },
  "language_info": {
   "codemirror_mode": {
    "name": "ipython",
    "version": 2
   },
   "file_extension": ".py",
   "mimetype": "text/x-python",
   "name": "python",
   "nbconvert_exporter": "python",
   "pygments_lexer": "ipython2",
   "version": "2.7.11"
  }
 },
 "nbformat": 4,
 "nbformat_minor": 0
}

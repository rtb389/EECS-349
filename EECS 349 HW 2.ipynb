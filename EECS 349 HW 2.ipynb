{
 "cells": [
  {
   "cell_type": "code",
   "execution_count": 1,
   "metadata": {
    "collapsed": false
   },
   "outputs": [],
   "source": [
    "import sys \n",
    "import csv\n",
    "import numpy as np\n",
    "import random as rd\n",
    "import copy"
   ]
  },
  {
   "cell_type": "code",
   "execution_count": 2,
   "metadata": {
    "collapsed": true
   },
   "outputs": [],
   "source": [
    "def levenshtein_distance(s1,s2,delete_cost,insert_cost,sub_cost):\n",
    "    \n",
    "    mat = []\n",
    "    \n",
    "    #Define this way so we have full-sized matrices, and doing list multiplication creates pointers rather than copies\n",
    "    for i in range(len(s1)+1):\n",
    "        l = []\n",
    "        for j in range(len(s2)+1):\n",
    "            l.append(0)\n",
    "        mat.append(l)\n",
    "    \n",
    "    for i in range(len(s1)+1):\n",
    "        mat[i][0]=i*delete_cost\n",
    "    for j in range(len(s2)+1):\n",
    "        mat[0][j]=j*insert_cost\n",
    "        \n",
    "    for j in range(1,len(s2)+1):\n",
    "        for i in range(1,len(s1)+1):\n",
    "            #Make both lower-case\n",
    "            if s1[i-1].lower()==s2[j-1].lower():\n",
    "                mat[i][j] = mat[i-1][j-1]\n",
    "            else:\n",
    "                mat[i][j] = min(mat[i-1][j]+delete_cost,mat[i][j-1]+insert_cost,mat[i-1][j-1]+sub_cost)\n",
    "                \n",
    "    return mat[len(s1)][len(s2)]"
   ]
  },
  {
   "cell_type": "code",
   "execution_count": 3,
   "metadata": {
    "collapsed": false
   },
   "outputs": [
    {
     "data": {
      "text/plain": [
       "4"
      ]
     },
     "execution_count": 3,
     "metadata": {},
     "output_type": "execute_result"
    }
   ],
   "source": [
    "levenshtein_distance('finite','rent',1,1,1)"
   ]
  },
  {
   "cell_type": "code",
   "execution_count": 4,
   "metadata": {
    "collapsed": false
   },
   "outputs": [],
   "source": [
    "def find_closest_word(string,dictionary,delete=1,ins=1,sub=1):\n",
    "    best_dist = 1000000\n",
    "    #Will take all with best distance and choose one randomly\n",
    "    bests = []\n",
    "    \n",
    "    for line in dictionary:\n",
    "        line = line.rstrip()\n",
    "        # rstrip strips all ending white-space/line breaks, etc\n",
    "        dist = levenshtein_distance(string,line,delete,ins,sub)\n",
    "        if dist<best_dist:\n",
    "            best_dist = dist\n",
    "            bests=[line]\n",
    "        elif dist==best_dist:\n",
    "            bests.append(line)\n",
    "\n",
    "    return rd.choice(bests)"
   ]
  },
  {
   "cell_type": "code",
   "execution_count": 5,
   "metadata": {
    "collapsed": false
   },
   "outputs": [],
   "source": [
    "#To do the next part, read the file in line by line\n",
    "##For each line, create an accumulator string that will be spell checked if a word and then added to output, \n",
    "### or just added to output if non-word"
   ]
  },
  {
   "cell_type": "code",
   "execution_count": 6,
   "metadata": {
    "collapsed": true
   },
   "outputs": [],
   "source": [
    "def spellcheck(infile,dictionary,delete=1,ins=1,sub=1):\n",
    "    input_file = open(infile,'r')\n",
    "    output_file = open('corrected.txt','w')\n",
    "    dic_file = open(dictionary,'r')\n",
    "    dic = dic_file.readlines()\n",
    "    \n",
    "    for line in input_file.readlines():\n",
    "        #Accumulates string before spell checking\n",
    "        acc = ''\n",
    "        #Says if we are reading an alphanumeric or not\n",
    "        isword = line[0].isalnum()\n",
    "        for i in range(len(line)):\n",
    "            #Check if the given character is the same as the variable\n",
    "            switch = line[i].isalnum()\n",
    "            #If still same, keep accumulating\n",
    "            if switch == isword:\n",
    "                acc+=line[i]\n",
    "            #If we switch, spell check if needed, then write the characters and reset variables\n",
    "            else:\n",
    "                if isword:\n",
    "                    acc = find_closest_word(acc,dic,delete,ins,sub)\n",
    "                output_file.write(acc)\n",
    "                acc=line[i]\n",
    "                isword = switch\n",
    "        \n",
    "        #Write remaining after loop reaches end\n",
    "        if isword:\n",
    "            acc = find_closest_word(acc,dic,delete,ins,sub)\n",
    "        output_file.write(acc)\n",
    "    \n",
    "    input_file.close()\n",
    "    output_file.close()\n",
    "    dic_file.close()\n",
    "\n",
    "                "
   ]
  },
  {
   "cell_type": "code",
   "execution_count": 7,
   "metadata": {
    "collapsed": false
   },
   "outputs": [
    {
     "data": {
      "text/plain": [
       "'abandonned\\tabandoned\\n'"
      ]
     },
     "execution_count": 7,
     "metadata": {},
     "output_type": "execute_result"
    }
   ],
   "source": [
    "file1='bitbootcamp/wikipediatypo.txt'\n",
    "open(file1,'r').readlines()[0]#.isalnum()"
   ]
  },
  {
   "cell_type": "code",
   "execution_count": 8,
   "metadata": {
    "collapsed": false
   },
   "outputs": [],
   "source": [
    "spellcheck('bitbootcamp/text_typo.txt','bitbootcamp/3esl.txt')"
   ]
  },
  {
   "cell_type": "code",
   "execution_count": null,
   "metadata": {
    "collapsed": false
   },
   "outputs": [],
   "source": []
  },
  {
   "cell_type": "code",
   "execution_count": null,
   "metadata": {
    "collapsed": true
   },
   "outputs": [],
   "source": []
  }
 ],
 "metadata": {
  "kernelspec": {
   "display_name": "Python 2",
   "language": "python",
   "name": "python2"
  },
  "language_info": {
   "codemirror_mode": {
    "name": "ipython",
    "version": 2
   },
   "file_extension": ".py",
   "mimetype": "text/x-python",
   "name": "python",
   "nbconvert_exporter": "python",
   "pygments_lexer": "ipython2",
   "version": "2.7.11"
  }
 },
 "nbformat": 4,
 "nbformat_minor": 0
}

{
 "cells": [
  {
   "cell_type": "code",
   "execution_count": 1,
   "metadata": {
    "collapsed": true
   },
   "outputs": [],
   "source": [
    "import numpy as np\n",
    "import scipy as sp\n",
    "import pandas as pd\n",
    "import sys"
   ]
  },
  {
   "cell_type": "code",
   "execution_count": 2,
   "metadata": {
    "collapsed": true
   },
   "outputs": [],
   "source": [
    "data_f = pd.read_csv('bitbootcamp/u.data',sep='\\t',names=['userID','movieID','rating','timestamp'])"
   ]
  },
  {
   "cell_type": "code",
   "execution_count": 3,
   "metadata": {
    "collapsed": false
   },
   "outputs": [
    {
     "data": {
      "text/html": [
       "<div>\n",
       "<table border=\"1\" class=\"dataframe\">\n",
       "  <thead>\n",
       "    <tr style=\"text-align: right;\">\n",
       "      <th></th>\n",
       "      <th>userID</th>\n",
       "      <th>movieID</th>\n",
       "      <th>rating</th>\n",
       "      <th>timestamp</th>\n",
       "    </tr>\n",
       "  </thead>\n",
       "  <tbody>\n",
       "    <tr>\n",
       "      <th>0</th>\n",
       "      <td>196</td>\n",
       "      <td>242</td>\n",
       "      <td>3</td>\n",
       "      <td>881250949</td>\n",
       "    </tr>\n",
       "    <tr>\n",
       "      <th>1</th>\n",
       "      <td>186</td>\n",
       "      <td>302</td>\n",
       "      <td>3</td>\n",
       "      <td>891717742</td>\n",
       "    </tr>\n",
       "    <tr>\n",
       "      <th>2</th>\n",
       "      <td>22</td>\n",
       "      <td>377</td>\n",
       "      <td>1</td>\n",
       "      <td>878887116</td>\n",
       "    </tr>\n",
       "    <tr>\n",
       "      <th>3</th>\n",
       "      <td>244</td>\n",
       "      <td>51</td>\n",
       "      <td>2</td>\n",
       "      <td>880606923</td>\n",
       "    </tr>\n",
       "    <tr>\n",
       "      <th>4</th>\n",
       "      <td>166</td>\n",
       "      <td>346</td>\n",
       "      <td>1</td>\n",
       "      <td>886397596</td>\n",
       "    </tr>\n",
       "  </tbody>\n",
       "</table>\n",
       "</div>"
      ],
      "text/plain": [
       "   userID  movieID  rating  timestamp\n",
       "0     196      242       3  881250949\n",
       "1     186      302       3  891717742\n",
       "2      22      377       1  878887116\n",
       "3     244       51       2  880606923\n",
       "4     166      346       1  886397596"
      ]
     },
     "execution_count": 3,
     "metadata": {},
     "output_type": "execute_result"
    }
   ],
   "source": [
    "data_f.head(5)"
   ]
  },
  {
   "cell_type": "code",
   "execution_count": 4,
   "metadata": {
    "collapsed": false
   },
   "outputs": [
    {
     "name": "stdout",
     "output_type": "stream",
     "text": [
      "100000\n"
     ]
    }
   ],
   "source": [
    "#Checking no nulls for later aggregating\n",
    "print len(data_f.dropna())"
   ]
  },
  {
   "cell_type": "code",
   "execution_count": 5,
   "metadata": {
    "collapsed": false
   },
   "outputs": [],
   "source": [
    "temp1 = data_f[['userID','movieID']]"
   ]
  },
  {
   "cell_type": "code",
   "execution_count": 6,
   "metadata": {
    "collapsed": false
   },
   "outputs": [],
   "source": [
    "temp2 = pd.merge(temp1,temp1,on='movieID')"
   ]
  },
  {
   "cell_type": "code",
   "execution_count": 7,
   "metadata": {
    "collapsed": true
   },
   "outputs": [],
   "source": [
    "temp3 = temp2[temp2['userID_x']!=temp2['userID_y']]"
   ]
  },
  {
   "cell_type": "code",
   "execution_count": 8,
   "metadata": {
    "collapsed": false
   },
   "outputs": [],
   "source": [
    "temp4 = temp3.groupby(['userID_x','userID_y']).agg('count')"
   ]
  },
  {
   "cell_type": "code",
   "execution_count": 9,
   "metadata": {
    "collapsed": false
   },
   "outputs": [
    {
     "data": {
      "text/html": [
       "<div>\n",
       "<table border=\"1\" class=\"dataframe\">\n",
       "  <thead>\n",
       "    <tr style=\"text-align: right;\">\n",
       "      <th></th>\n",
       "      <th></th>\n",
       "      <th>movieID</th>\n",
       "    </tr>\n",
       "    <tr>\n",
       "      <th>userID_x</th>\n",
       "      <th>userID_y</th>\n",
       "      <th></th>\n",
       "    </tr>\n",
       "  </thead>\n",
       "  <tbody>\n",
       "    <tr>\n",
       "      <th rowspan=\"5\" valign=\"top\">1</th>\n",
       "      <th>2</th>\n",
       "      <td>18</td>\n",
       "    </tr>\n",
       "    <tr>\n",
       "      <th>3</th>\n",
       "      <td>8</td>\n",
       "    </tr>\n",
       "    <tr>\n",
       "      <th>4</th>\n",
       "      <td>7</td>\n",
       "    </tr>\n",
       "    <tr>\n",
       "      <th>5</th>\n",
       "      <td>80</td>\n",
       "    </tr>\n",
       "    <tr>\n",
       "      <th>6</th>\n",
       "      <td>96</td>\n",
       "    </tr>\n",
       "  </tbody>\n",
       "</table>\n",
       "</div>"
      ],
      "text/plain": [
       "                   movieID\n",
       "userID_x userID_y         \n",
       "1        2              18\n",
       "         3               8\n",
       "         4               7\n",
       "         5              80\n",
       "         6              96"
      ]
     },
     "execution_count": 9,
     "metadata": {},
     "output_type": "execute_result"
    }
   ],
   "source": [
    "temp4.head(5)"
   ]
  },
  {
   "cell_type": "code",
   "execution_count": 10,
   "metadata": {
    "collapsed": false
   },
   "outputs": [
    {
     "name": "stdout",
     "output_type": "stream",
     "text": [
      "median:  10.0\n",
      "mean:  19.4672578127\n"
     ]
    }
   ],
   "source": [
    "print 'median: ',temp4['movieID'].median()\n",
    "print 'mean: ',temp4['movieID'].mean()"
   ]
  },
  {
   "cell_type": "code",
   "execution_count": 11,
   "metadata": {
    "collapsed": true
   },
   "outputs": [],
   "source": [
    "import matplotlib.pyplot as plt\n",
    "%matplotlib inline"
   ]
  },
  {
   "cell_type": "code",
   "execution_count": 78,
   "metadata": {
    "collapsed": false
   },
   "outputs": [
    {
     "data": {
      "image/png": "[encoded data removed]",
      "text/plain": [
       "<matplotlib.figure.Figure at 0x1a7fb940>"
      ]
     },
     "metadata": {},
     "output_type": "display_data"
    }
   ],
   "source": [
    "binwidth = 10\n",
    "plt.figure(figsize=(8,5))\n",
    "plt.hist(temp4['movieID'],bins=np.arange(min(temp4['movieID']), max(temp4['movieID']) + binwidth, binwidth))\n",
    "plt.ylabel('Number of pairs of users')\n",
    "plt.xlabel('Number of movies watched in common')\n",
    "plt.title('Distribution of number of movies watched in common between pairs of users')\n",
    "plt.savefig('bitbootcamp/pairgraph')"
   ]
  },
  {
   "cell_type": "code",
   "execution_count": 13,
   "metadata": {
    "collapsed": false
   },
   "outputs": [
    {
     "name": "stdout",
     "output_type": "stream",
     "text": [
      "346\n",
      "1672\n"
     ]
    }
   ],
   "source": [
    "#Just checking that the aggregating worked\n",
    "print temp4['movieID'].max()\n",
    "print temp3['movieID'].max()"
   ]
  },
  {
   "cell_type": "code",
   "execution_count": 14,
   "metadata": {
    "collapsed": false
   },
   "outputs": [
    {
     "data": {
      "text/plain": [
       "190"
      ]
     },
     "execution_count": 14,
     "metadata": {},
     "output_type": "execute_result"
    }
   ],
   "source": [
    "#Maybe make a cut-off around 250-ish?\n",
    "len(temp4[temp4['movieID']>250])"
   ]
  },
  {
   "cell_type": "code",
   "execution_count": 15,
   "metadata": {
    "collapsed": true
   },
   "outputs": [],
   "source": [
    "new = temp4[temp4['movieID']<=250]"
   ]
  },
  {
   "cell_type": "code",
   "execution_count": 79,
   "metadata": {
    "collapsed": false
   },
   "outputs": [
    {
     "data": {
      "image/png": "[encoded data removed]",
      "text/plain": [
       "<matplotlib.figure.Figure at 0x1a070c18>"
      ]
     },
     "metadata": {},
     "output_type": "display_data"
    }
   ],
   "source": [
    "binwidth = 10\n",
    "plt.figure(figsize=(7,5))\n",
    "plt.hist(temp4['movieID'],bins=np.arange(min(new['movieID']), max(new['movieID']), binwidth))\n",
    "plt.ylabel('Number of pairs of users')\n",
    "plt.xlabel('Number of movies watched in common')\n",
    "plt.title('Distribution of number of movies watched in common between pairs of users')\n",
    "plt.savefig('bitbootcamp/pairgraph')"
   ]
  },
  {
   "cell_type": "code",
   "execution_count": null,
   "metadata": {
    "collapsed": true
   },
   "outputs": [],
   "source": []
  },
  {
   "cell_type": "code",
   "execution_count": 17,
   "metadata": {
    "collapsed": false
   },
   "outputs": [
    {
     "name": "stderr",
     "output_type": "stream",
     "text": [
      "C:\\Users\\Robert\\Anaconda2\\lib\\site-packages\\ipykernel\\__main__.py:2: SettingWithCopyWarning: \n",
      "A value is trying to be set on a copy of a slice from a DataFrame.\n",
      "Try using .loc[row_indexer,col_indexer] = value instead\n",
      "\n",
      "See the caveats in the documentation: http://pandas.pydata.org/pandas-docs/stable/indexing.html#indexing-view-versus-copy\n",
      "  from ipykernel import kernelapp as app\n"
     ]
    }
   ],
   "source": [
    "temp5 = data_f[['movieID']]\n",
    "temp5['id2'] = temp5['movieID']"
   ]
  },
  {
   "cell_type": "code",
   "execution_count": 18,
   "metadata": {
    "collapsed": false
   },
   "outputs": [
    {
     "data": {
      "text/html": [
       "<div>\n",
       "<table border=\"1\" class=\"dataframe\">\n",
       "  <thead>\n",
       "    <tr style=\"text-align: right;\">\n",
       "      <th></th>\n",
       "      <th>movieID</th>\n",
       "      <th>id2</th>\n",
       "    </tr>\n",
       "  </thead>\n",
       "  <tbody>\n",
       "    <tr>\n",
       "      <th>0</th>\n",
       "      <td>242</td>\n",
       "      <td>242</td>\n",
       "    </tr>\n",
       "    <tr>\n",
       "      <th>1</th>\n",
       "      <td>302</td>\n",
       "      <td>302</td>\n",
       "    </tr>\n",
       "    <tr>\n",
       "      <th>2</th>\n",
       "      <td>377</td>\n",
       "      <td>377</td>\n",
       "    </tr>\n",
       "    <tr>\n",
       "      <th>3</th>\n",
       "      <td>51</td>\n",
       "      <td>51</td>\n",
       "    </tr>\n",
       "    <tr>\n",
       "      <th>4</th>\n",
       "      <td>346</td>\n",
       "      <td>346</td>\n",
       "    </tr>\n",
       "  </tbody>\n",
       "</table>\n",
       "</div>"
      ],
      "text/plain": [
       "   movieID  id2\n",
       "0      242  242\n",
       "1      302  302\n",
       "2      377  377\n",
       "3       51   51\n",
       "4      346  346"
      ]
     },
     "execution_count": 18,
     "metadata": {},
     "output_type": "execute_result"
    }
   ],
   "source": [
    "temp5.head()"
   ]
  },
  {
   "cell_type": "code",
   "execution_count": 19,
   "metadata": {
    "collapsed": false
   },
   "outputs": [],
   "source": [
    "temp6 = temp5.groupby('movieID').agg('count')['id2']"
   ]
  },
  {
   "cell_type": "code",
   "execution_count": 20,
   "metadata": {
    "collapsed": false
   },
   "outputs": [],
   "source": [
    "temp7 = temp6.sort_values(ascending=False)"
   ]
  },
  {
   "cell_type": "code",
   "execution_count": 21,
   "metadata": {
    "collapsed": false
   },
   "outputs": [
    {
     "name": "stdout",
     "output_type": "stream",
     "text": [
      "movieID\n",
      "50    583\n",
      "Name: id2, dtype: int64\n",
      "movieID\n",
      "1682    1\n",
      "Name: id2, dtype: int64\n"
     ]
    }
   ],
   "source": [
    "print temp7.head(1)\n",
    "print temp7.tail(1)"
   ]
  },
  {
   "cell_type": "code",
   "execution_count": 80,
   "metadata": {
    "collapsed": false
   },
   "outputs": [
    {
     "data": {
      "image/png": "[encoded data removed]",
      "text/plain": [
       "<matplotlib.figure.Figure at 0x1a45e828>"
      ]
     },
     "metadata": {},
     "output_type": "display_data"
    }
   ],
   "source": [
    "plt.plot(range(len(temp7)),temp7,'bo-')\n",
    "plt.ylabel('Number of reviews')\n",
    "plt.xlabel('Rank in ordering')\n",
    "plt.title('Plot of rank vs number of reviews')\n",
    "plt.savefig('bitbootcamp/zipf')"
   ]
  },
  {
   "cell_type": "code",
   "execution_count": 23,
   "metadata": {
    "collapsed": true
   },
   "outputs": [],
   "source": [
    "import scipy.stats as stat"
   ]
  },
  {
   "cell_type": "code",
   "execution_count": 24,
   "metadata": {
    "collapsed": false
   },
   "outputs": [
    {
     "name": "stdout",
     "output_type": "stream",
     "text": [
      "(0.80178372573727308, 0.0052761079358707398)\n",
      "(0.17496355305594125, 0.62876990802279553)\n",
      "3.16227766017\n",
      "3.0\n"
     ]
    }
   ],
   "source": [
    "a = np.array([5,5,1,1,1,3,3,3,3,3])\n",
    "b = np.array([3,3,2,3,3,2,2,3,3,3])\n",
    "c = np.array([5,4,3,2,3,3,3,3,3,3])\n",
    "\n",
    "print stat.pearsonr(a,c)\n",
    "print stat.pearsonr(b,c)\n",
    "print np.sqrt(sum((a-c)**2))\n",
    "print np.sqrt(sum((b-c)**2))"
   ]
  },
  {
   "cell_type": "code",
   "execution_count": 25,
   "metadata": {
    "collapsed": false
   },
   "outputs": [],
   "source": [
    "# 2a) I decide to use approach B, since approach A seems like the missing values could greatly skew if users have certain rating patterns (i.e. a high or low scorer)\n",
    "# "
   ]
  },
  {
   "cell_type": "code",
   "execution_count": null,
   "metadata": {
    "collapsed": true
   },
   "outputs": [],
   "source": []
  },
  {
   "cell_type": "code",
   "execution_count": null,
   "metadata": {
    "collapsed": false
   },
   "outputs": [],
   "source": []
  },
  {
   "cell_type": "code",
   "execution_count": null,
   "metadata": {
    "collapsed": true
   },
   "outputs": [],
   "source": []
  },
  {
   "cell_type": "code",
   "execution_count": null,
   "metadata": {
    "collapsed": true
   },
   "outputs": [],
   "source": []
  },
  {
   "cell_type": "code",
   "execution_count": 38,
   "metadata": {
    "collapsed": true
   },
   "outputs": [],
   "source": [
    "import scipy.stats as stat\n",
    "import numpy as np\n",
    "numOfUsers = 943\n",
    "numOfItems = 1682"
   ]
  },
  {
   "cell_type": "code",
   "execution_count": 28,
   "metadata": {
    "collapsed": false
   },
   "outputs": [],
   "source": [
    "#Item based\n",
    "file1 = 'bitbootcamp/u.data'\n",
    "line_array = np.zeros((numOfItems,numOfUsers))\n",
    "\n",
    "with open(file1,'rb') as infile:\n",
    "    for line in infile.readlines():\n",
    "        temp = line.split('\\t')\n",
    "        #First index is movieID, second is userID\n",
    "        line_array[int(temp[1])-1][int(temp[0])-1] = int(temp[2])"
   ]
  },
  {
   "cell_type": "code",
   "execution_count": 53,
   "metadata": {
    "collapsed": false
   },
   "outputs": [],
   "source": [
    "#distance = 0\n",
    "f = lambda x,y: stat.pearsonr(x,y)[0]\n",
    "if distance == 0:\n",
    "    f = lambda x,y: sum(abs(x-y))"
   ]
  },
  {
   "cell_type": "code",
   "execution_count": 54,
   "metadata": {
    "collapsed": false
   },
   "outputs": [],
   "source": [
    "iFlag = 0\n",
    "movieid = 1\n",
    "userid = 1\n",
    "dist_array = np.array([])\n",
    "for j in range(len(line_array)):\n",
    "    #If the given user has not rated the movie\n",
    "    if iFlag == 0 and line_array[j][userid-1] == 0:\n",
    "        #append larger number than possible for distance\n",
    "        dist_array=np.append(dist_array,(numOfUsers+5)*(numOfItems+5))\n",
    "    else:\n",
    "        dist_array=np.append(dist_array,f(line_array[movieid-1],line_array[j]))"
   ]
  },
  {
   "cell_type": "code",
   "execution_count": 55,
   "metadata": {
    "collapsed": false
   },
   "outputs": [
    {
     "data": {
      "text/plain": [
       "array([  0.00000000e+00,   1.54700000e+03,   1.60600000e+03, ...,\n",
       "         1.59927600e+06,   1.59927600e+06,   1.59927600e+06])"
      ]
     },
     "execution_count": 55,
     "metadata": {},
     "output_type": "execute_result"
    }
   ],
   "source": [
    "dist_array"
   ]
  },
  {
   "cell_type": "code",
   "execution_count": 56,
   "metadata": {
    "collapsed": false
   },
   "outputs": [],
   "source": [
    "k = 10\n",
    "x=dist_array.argsort()\n",
    "count = 0\n",
    "pos = 0\n",
    "#Will store the top k movie indices\n",
    "topk = []\n",
    "#Doing this because I am not sure whether or not the movieid will be in the array, and np.arrays do not have remove\n",
    "while count < k:\n",
    "    if x[pos] != movieid-1:\n",
    "        topk.append(x[pos])\n",
    "        count+=1\n",
    "    pos+=1"
   ]
  },
  {
   "cell_type": "code",
   "execution_count": 57,
   "metadata": {
    "collapsed": false
   },
   "outputs": [
    {
     "data": {
      "text/plain": [
       "4.0"
      ]
     },
     "execution_count": 57,
     "metadata": {},
     "output_type": "execute_result"
    }
   ],
   "source": [
    "scores = np.array([])\n",
    "for item in topk:\n",
    "    #Go to the \n",
    "    scores=np.append(scores,line_array[item][userid-1])\n",
    "stat.mode(scores)[0][0]"
   ]
  },
  {
   "cell_type": "code",
   "execution_count": null,
   "metadata": {
    "collapsed": false
   },
   "outputs": [],
   "source": []
  },
  {
   "cell_type": "code",
   "execution_count": 26,
   "metadata": {
    "collapsed": false
   },
   "outputs": [],
   "source": [
    "def item_based_cf(datafile, userid, movieid, distance, k, iFlag, numOfUsers, numOfItems):\n",
    "    '''\n",
    "    build item-based collaborative filter that predicts the rating \n",
    "    of a user for a movie.\n",
    "    This function returns the predicted rating and its actual rating.\n",
    "    \n",
    "    Parameters\n",
    "    ----------\n",
    "    <datafile> - a fully specified path to a file formatted like the MovieLens100K data file u.data \n",
    "    <userid> - a userId in the MovieLens100K data\n",
    "    <movieid> - a movieID in the MovieLens 100K data set\n",
    "    <distance> - a Boolean. If set to 0, use Pearson’s correlation as the distance measure. If 1, use Manhattan distance.\n",
    "    <k> - The number of nearest neighbors to consider\n",
    "    <iFlag> - A Boolean value. If set to 0 for user-based collaborative filtering, \n",
    "    only users that have actual (ie non-0) ratings for the movie are considered in your top K. \n",
    "    For item-based, use only movies that have actual ratings by the user in your top K. \n",
    "    If set to 1, simply use the top K regardless of whether the top K contain actual or filled-in ratings.\n",
    "\n",
    "    returns\n",
    "    -------\n",
    "    trueRating: <userid>'s actual rating for <movieid>\n",
    "    predictedRating: <userid>'s rating predicted by collaborative filter for <movieid>\n",
    "\n",
    "\n",
    "    AUTHOR: Robert Tom\n",
    "    '''\n",
    "    #Store each item\n",
    "    line_array = np.zeros((numOfItems,numOfUsers))\n",
    "\n",
    "    with open(datafile,'rb') as infile:\n",
    "        for line in infile.readlines():\n",
    "            temp = line.split('\\t')\n",
    "            #First index is movieID, second is userID\n",
    "            line_array[int(temp[1])-1][int(temp[0])-1] = int(temp[2])\n",
    "    \n",
    "    #Decide which distance measure to use\n",
    "    f = lambda x,y: stat.pearsonr(x,y)[0]\n",
    "    if distance == 0:\n",
    "        f = lambda x,y: sum(abs(x-y))\n",
    "            \n",
    "    #Array of distances from given movie\n",
    "    dist_array = np.array([])\n",
    "    for j in range(len(line_array)):\n",
    "        #If the given user has not rated the movie\n",
    "        if iFlag == 0 and line_array[j][userid-1] == 0:\n",
    "            #append larger number than possible for distance\n",
    "            dist_array=np.append(dist_array,(numOfUsers+5)*(numOfItems+5))\n",
    "        else:\n",
    "            dist_array=np.append(dist_array,f(line_array[movieid-1],line_array[j]))\n",
    "\n",
    "    x=dist_array.argsort()\n",
    "    count = 0\n",
    "    pos = 0\n",
    "    #Will store the top k movie indices\n",
    "    topk = []\n",
    "    #Doing this because I am not sure whether or not the movieid will be in the array, and np.arrays do not have remove\n",
    "    while count < k:\n",
    "        if x[pos] != movieid-1:\n",
    "            topk.append(x[pos])\n",
    "            count+=1\n",
    "        pos+=1\n",
    "        \n",
    "    scores = np.array([])\n",
    "    for item in topk:\n",
    "        #Go to the \n",
    "        scores=np.append(scores,line_array[item][userid-1])\n",
    "    predictedRating = stat.mode(scores)[0][0]\n",
    "    trueRating = line_array[movieid-1][userid-1]\n",
    "\n",
    "    return trueRating, predictedRating\n",
    "\n"
   ]
  },
  {
   "cell_type": "code",
   "execution_count": 27,
   "metadata": {
    "collapsed": false
   },
   "outputs": [
    {
     "name": "stdout",
     "output_type": "stream",
     "text": [
      "(5.0, 0.0)\n",
      "(5.0, 4.0)\n"
     ]
    }
   ],
   "source": [
    "print item_based_cf('bitbootcamp/u.data',10,200,0,5,1,943,1682)\n",
    "print item_based_cf('bitbootcamp/u.data',10,200,0,5,0,943,1682)"
   ]
  },
  {
   "cell_type": "code",
   "execution_count": null,
   "metadata": {
    "collapsed": true
   },
   "outputs": [],
   "source": []
  },
  {
   "cell_type": "code",
   "execution_count": 28,
   "metadata": {
    "collapsed": true
   },
   "outputs": [],
   "source": [
    "# Starter code for uesr-based collaborative filtering\n",
    "# Complete the function user_based_cf below. Do not change it arguments and return variables. \n",
    "# Do not change main() function, \n",
    "\n",
    "# import modules you need here.\n",
    "import sys\n",
    "\n",
    "\n",
    "def user_based_cf(datafile, userid, movieid, distance, k, iFlag, numOfUsers, numOfItems):\n",
    "    '''\n",
    "    build user-based collaborative filter that predicts the rating \n",
    "    of a user for a movie.\n",
    "    This function returns the predicted rating and its actual rating.\n",
    "    \n",
    "    Parameters\n",
    "    ----------\n",
    "    <datafile> - a fully specified path to a file formatted like the MovieLens100K data file u.data \n",
    "    <userid> - a userId in the MovieLens100K data\n",
    "    <movieid> - a movieID in the MovieLens 100K data set\n",
    "    <distance> - a Boolean. If set to 0, use Pearson’s correlation as the distance measure. If 1, use Manhattan distance.\n",
    "    <k> - The number of nearest neighbors to consider\n",
    "    <iFlag> - A Boolean value. If set to 0 for user-based collaborative filtering, \n",
    "    only users that have actual (ie non-0) ratings for the movie are considered in your top K. \n",
    "    For user-based, use only movies that have actual ratings by the user in your top K. \n",
    "    If set to 1, simply use the top K regardless of whether the top K contain actual or filled-in ratings.\n",
    "\n",
    "    returns\n",
    "    -------\n",
    "    trueRating: <userid>'s actual rating for <movieid>\n",
    "    predictedRating: <userid>'s rating predicted by collaborative filter for <movieid>\n",
    "\n",
    "\n",
    "    AUTHOR: Robert Tom\n",
    "    '''\n",
    "  \n",
    "    #Store each item\n",
    "    line_array = np.zeros((numOfUsers,numOfItems))\n",
    "\n",
    "    with open(datafile,'rb') as infile:\n",
    "        for line in infile.readlines():\n",
    "            temp = line.split('\\t')\n",
    "            #First index is movieID, second is userID\n",
    "            line_array[int(temp[0])-1][int(temp[1])-1] = int(temp[2])\n",
    "    \n",
    "    #Decide which distance measure to use\n",
    "    f = lambda x,y: stat.pearsonr(x,y)[0]\n",
    "    if distance == 0:\n",
    "        f = lambda x,y: sum(abs(x-y))\n",
    "            \n",
    "    #Array of distances from given movie\n",
    "    dist_array = np.array([])\n",
    "    for j in range(len(line_array)):\n",
    "        #If the given user has not rated the movie\n",
    "        if iFlag == 0 and line_array[j][movieid-1] == 0:\n",
    "            #append larger number than possible for distance\n",
    "            dist_array=np.append(dist_array,(numOfUsers+5)*(numOfItems+5))\n",
    "        else:\n",
    "            dist_array=np.append(dist_array,f(line_array[userid-1],line_array[j]))\n",
    "\n",
    "    x=dist_array.argsort()\n",
    "    count = 0\n",
    "    pos = 0\n",
    "    #Will store the top k movie indices\n",
    "    topk = []\n",
    "    #Doing this because I am not sure whether or not the movieid will be in the array, and np.arrays do not have remove\n",
    "    while count < k:\n",
    "        if x[pos] != userid-1:\n",
    "            topk.append(x[pos])\n",
    "            count+=1\n",
    "        pos+=1\n",
    "        \n",
    "    scores = np.array([])\n",
    "    for user in topk:\n",
    "        #Go to the \n",
    "        scores=np.append(scores,line_array[user][movieid-1])\n",
    "    predictedRating = stat.mode(scores)[0][0]\n",
    "    trueRating = line_array[userid-1][movieid-1]\n",
    "\n",
    "    return trueRating, predictedRating"
   ]
  },
  {
   "cell_type": "code",
   "execution_count": 29,
   "metadata": {
    "collapsed": false
   },
   "outputs": [
    {
     "name": "stdout",
     "output_type": "stream",
     "text": [
      "(5.0, 0.0)\n",
      "(5.0, 3.0)\n"
     ]
    }
   ],
   "source": [
    "print user_based_cf('bitbootcamp/u.data',10,200,0,5,1,943,1682)\n",
    "print user_based_cf('bitbootcamp/u.data',10,200,0,5,0,943,1682)"
   ]
  },
  {
   "cell_type": "code",
   "execution_count": null,
   "metadata": {
    "collapsed": false
   },
   "outputs": [],
   "source": []
  },
  {
   "cell_type": "code",
   "execution_count": 30,
   "metadata": {
    "collapsed": false
   },
   "outputs": [],
   "source": [
    "import random as rd\n",
    "\n",
    "samples = []\n",
    "for i in range(50):\n",
    "    #Chooses which 100 of the 100,000 ratings to use (by their order in u.data, rather than their values)\n",
    "    temp = rd.sample(xrange(100000),100)\n",
    "    \n",
    "    #Get them in ascending order for ease of use\n",
    "    temp.sort()\n",
    "    \n",
    "    samples.append(temp)"
   ]
  },
  {
   "cell_type": "code",
   "execution_count": null,
   "metadata": {
    "collapsed": false
   },
   "outputs": [],
   "source": [
    "############## NEED TO CREATE VARIANTS ON GIVEN FUNCTIONS TO MAKE THEM NOT USE SAMPLES"
   ]
  },
  {
   "cell_type": "code",
   "execution_count": 36,
   "metadata": {
    "collapsed": false
   },
   "outputs": [],
   "source": [
    "def test_item_based_cf(datafile, distance, k, iFlag, numOfUsers, numOfItems,samples,sample):\n",
    "    '''\n",
    "    build item-based collaborative filter that predicts the rating \n",
    "    of a user for a movie.\n",
    "    This function returns the predicted rating and its actual rating.\n",
    "    \n",
    "    Parameters\n",
    "    ----------\n",
    "    <datafile> - a fully specified path to a file formatted like the MovieLens100K data file u.data \n",
    "    <userid> - a userId in the MovieLens100K data\n",
    "    <movieid> - a movieID in the MovieLens 100K data set\n",
    "    <distance> - a Boolean. If set to 0, use Pearson’s correlation as the distance measure. If 1, use Manhattan distance.\n",
    "    <k> - The number of nearest neighbors to consider\n",
    "    <iFlag> - A Boolean value. If set to 0 for user-based collaborative filtering, \n",
    "    only users that have actual (ie non-0) ratings for the movie are considered in your top K. \n",
    "    For item-based, use only movies that have actual ratings by the user in your top K. \n",
    "    If set to 1, simply use the top K regardless of whether the top K contain actual or filled-in ratings.\n",
    "\n",
    "    returns\n",
    "    -------\n",
    "    trueRating: <userid>'s actual rating for <movieid>\n",
    "    predictedRating: <userid>'s rating predicted by collaborative filter for <movieid>\n",
    "\n",
    "\n",
    "    AUTHOR: Robert Tom\n",
    "    '''\n",
    "    #Store each item\n",
    "    line_array = np.zeros((numOfItems,numOfUsers))\n",
    "    \n",
    "    count = 0\n",
    "    index = 0\n",
    "    movieid=0\n",
    "    userid=0\n",
    "    \n",
    "    with open(datafile,'rb') as infile:\n",
    "        for line in infile.readlines():\n",
    "            temp = line.split('\\t')\n",
    "            # i.e. if the given line is one of our sample data\n",
    "            if count < len(samples) and samples[count] == index:\n",
    "                count+=1\n",
    "                line_array[int(temp[1])-1][int(temp[0])-1] = 0\n",
    "                #We get the true rating here since it won't be in the matrix\n",
    "                if index == sample:\n",
    "                    userid=int(temp[0])\n",
    "                    movieid=int(temp[1])\n",
    "                    trueRating = int(temp[2])\n",
    "            else:\n",
    "                #First index is movieID, second is userID\n",
    "                line_array[int(temp[1])-1][int(temp[0])-1] = int(temp[2])\n",
    "            index+=1\n",
    "\n",
    "    \n",
    "    #Decide which distance measure to use\n",
    "    f = lambda x,y: stat.pearsonr(x,y)[0]\n",
    "    if distance == 0:\n",
    "        f = lambda x,y: sum(abs(x-y))\n",
    "            \n",
    "    #Array of distances from given movie\n",
    "    dist_array = np.array([])\n",
    "    for j in range(len(line_array)):\n",
    "        #If the given user has not rated the movie\n",
    "        if iFlag == 0 and line_array[j][userid-1] == 0:\n",
    "            #append larger number than possible for distance\n",
    "            dist_array=np.append(dist_array,(numOfUsers+5)*(numOfItems+5))\n",
    "        else:\n",
    "            dist_array=np.append(dist_array,f(line_array[movieid-1],line_array[j]))\n",
    "\n",
    "    x=dist_array.argsort()\n",
    "    count = 0\n",
    "    pos = 0\n",
    "    #Will store the top k movie indices\n",
    "    topk = []\n",
    "    #Doing this because I am not sure whether or not the movieid will be in the array, and np.arrays do not have remove\n",
    "    while count < k:\n",
    "        if x[pos] != movieid-1:\n",
    "            topk.append(x[pos])\n",
    "            count+=1\n",
    "        pos+=1\n",
    "        \n",
    "    scores = np.array([])\n",
    "    for item in topk:\n",
    "        #Go to the \n",
    "        scores=np.append(scores,line_array[item][userid-1])\n",
    "    predictedRating = stat.mode(scores)[0][0]\n",
    "    #trueRating = line_array[movieid-1][userid-1]\n",
    "\n",
    "    return trueRating, predictedRating\n",
    "\n",
    "def test_user_based_cf(datafile, distance, k, iFlag, numOfUsers, numOfItems,samples,sample):\n",
    "    '''\n",
    "    build user-based collaborative filter that predicts the rating \n",
    "    of a user for a movie.\n",
    "    This function returns the predicted rating and its actual rating.\n",
    "    \n",
    "    Parameters\n",
    "    ----------\n",
    "    <datafile> - a fully specified path to a file formatted like the MovieLens100K data file u.data \n",
    "    <userid> - a userId in the MovieLens100K data\n",
    "    <movieid> - a movieID in the MovieLens 100K data set\n",
    "    <distance> - a Boolean. If set to 0, use Pearson’s correlation as the distance measure. If 1, use Manhattan distance.\n",
    "    <k> - The number of nearest neighbors to consider\n",
    "    <iFlag> - A Boolean value. If set to 0 for user-based collaborative filtering, \n",
    "    only users that have actual (ie non-0) ratings for the movie are considered in your top K. \n",
    "    For user-based, use only movies that have actual ratings by the user in your top K. \n",
    "    If set to 1, simply use the top K regardless of whether the top K contain actual or filled-in ratings.\n",
    "\n",
    "    returns\n",
    "    -------\n",
    "    trueRating: <userid>'s actual rating for <movieid>\n",
    "    predictedRating: <userid>'s rating predicted by collaborative filter for <movieid>\n",
    "\n",
    "\n",
    "    AUTHOR: Robert Tom\n",
    "    '''\n",
    "  \n",
    "    #Store each item\n",
    "    line_array = np.zeros((numOfUsers,numOfItems))\n",
    "    \n",
    "    index = 0\n",
    "    count = 0\n",
    "    movieid = 0\n",
    "    userid = 0\n",
    "\n",
    "    with open(datafile,'rb') as infile:\n",
    "        for line in infile.readlines():\n",
    "            temp = line.split('\\t')\n",
    "            \n",
    "            # i.e. if the given line is one of our sample data\n",
    "            if count < len(samples) and samples[count] == index:\n",
    "                count+=1\n",
    "                line_array[int(temp[0])-1][int(temp[1])-1] = 0\n",
    "                #We get the true rating here since it won't be in the matrix\n",
    "                if index == sample:\n",
    "                    userid=int(temp[0])\n",
    "                    movieid=int(temp[1])\n",
    "                    trueRating = int(temp[2])\n",
    "            else:\n",
    "                #First index is movieID, second is userID\n",
    "                line_array[int(temp[0])-1][int(temp[1])-1] = int(temp[2])\n",
    "            index+=1\n",
    "    \n",
    "    #Decide which distance measure to use\n",
    "    f = lambda x,y: stat.pearsonr(x,y)[0]\n",
    "    if distance == 0:\n",
    "        f = lambda x,y: sum(abs(x-y))\n",
    "            \n",
    "    #Array of distances from given movie\n",
    "    dist_array = np.array([])\n",
    "    for j in range(len(line_array)):\n",
    "        #If the given user has not rated the movie\n",
    "        if iFlag == 0 and line_array[j][movieid-1] == 0:\n",
    "            #append larger number than possible for distance\n",
    "            dist_array=np.append(dist_array,(numOfUsers+5)*(numOfItems+5))\n",
    "        else:\n",
    "            dist_array=np.append(dist_array,f(line_array[userid-1],line_array[j]))\n",
    "\n",
    "    x=dist_array.argsort()\n",
    "    count = 0\n",
    "    pos = 0\n",
    "    #Will store the top k movie indices\n",
    "    topk = []\n",
    "    #Doing this because I am not sure whether or not the movieid will be in the array, and np.arrays do not have remove\n",
    "    while count < k:\n",
    "        if x[pos] != userid-1:\n",
    "            topk.append(x[pos])\n",
    "            count+=1\n",
    "        pos+=1\n",
    "        \n",
    "    scores = np.array([])\n",
    "    for user in topk:\n",
    "        #Go to the \n",
    "        scores=np.append(scores,line_array[user][movieid-1])\n",
    "    predictedRating = stat.mode(scores)[0][0]\n",
    "    #trueRating = line_array[userid-1][movieid-1]\n",
    "\n",
    "\n",
    "    return trueRating, predictedRating"
   ]
  },
  {
   "cell_type": "code",
   "execution_count": 89,
   "metadata": {
    "collapsed": false
   },
   "outputs": [
    {
     "name": "stdout",
     "output_type": "stream",
     "text": [
      "116.112999916\n",
      "109.872999907\n",
      "116.860000134\n",
      "112.45600009\n",
      "114.828999996\n",
      "111.864000082\n",
      "110.453000069\n",
      "110.66899991\n",
      "117.619999886\n",
      "112.40899992\n",
      "110.552999973\n",
      "111.955000162\n",
      "110.371000051\n",
      "111.812000036\n",
      "116.145999908\n",
      "117.150999784\n",
      "113.052999973\n",
      "105.156000137\n",
      "108.187999964\n",
      "106.276000023\n",
      "123.457000017\n",
      "110.399000168\n",
      "106.712999821\n",
      "108.27699995\n",
      "111.291000128\n",
      "97.2200000286\n",
      "109.603999853\n",
      "115.279000044\n",
      "123.006000042\n",
      "123.275000095\n",
      "118.796000004\n",
      "121.171000004\n",
      "121.55099988\n",
      "122.211999893\n",
      "122.009000063\n",
      "120.389999866\n",
      "123.034999847\n",
      "119.756000042\n",
      "122.511999846\n",
      "122.892999887\n",
      "119.584000111\n",
      "119.09800005\n",
      "122.320999861\n",
      "124.488999844\n",
      "123.10800004\n",
      "124.013000011\n",
      "121.249000072\n",
      "120.180000067\n",
      "123.611999989\n",
      "121.493000031\n"
     ]
    }
   ],
   "source": [
    "import time\n",
    "Pears = []\n",
    "for sample in samples:\n",
    "    start = time.time()\n",
    "    temp = map(lambda x: test_item_based_cf('bitbootcamp/u.data',0,10,0,numOfUsers,numOfItems,sample,x),sample)\n",
    "    Pears.append(temp)\n",
    "    print time.time()-start"
   ]
  },
  {
   "cell_type": "code",
   "execution_count": null,
   "metadata": {
    "collapsed": false
   },
   "outputs": [],
   "source": []
  },
  {
   "cell_type": "code",
   "execution_count": 90,
   "metadata": {
    "collapsed": false
   },
   "outputs": [
    {
     "name": "stdout",
     "output_type": "stream",
     "text": [
      "119.703000069\n",
      "125.970999956\n",
      "125.758999825\n",
      "121.764999866\n",
      "121.532000065\n",
      "127.914000034\n",
      "120.987999916\n",
      "120.875999928\n",
      "116.200000048\n",
      "122.536000013\n",
      "124.677999973\n",
      "123.958999872\n",
      "124.671000004\n",
      "121.582999945\n",
      "122.263000011\n",
      "137.792000055\n",
      "123.648000002\n",
      "124.529000044\n",
      "123.81099987\n",
      "123.819999933\n",
      "122.820999861\n",
      "121.698000193\n",
      "123.278000116\n",
      "122.552999973\n",
      "119.999000072\n",
      "126.569000006\n",
      "123.622999907\n",
      "121.695999861\n",
      "119.549000025\n",
      "118.65899992\n",
      "118.720999956\n",
      "119.356999874\n",
      "121.805000067\n",
      "121.445999861\n",
      "118.194999933\n",
      "120.721999884\n",
      "120.103000164\n",
      "120.487999916\n",
      "126.125\n",
      "130.279999971\n",
      "134.142999887\n",
      "133.775000095\n",
      "134.628999949\n",
      "130.184000015\n",
      "124.457000017\n",
      "108.777999878\n",
      "103.338999987\n",
      "105.626000166\n",
      "106.690000057\n",
      "109.581999779\n"
     ]
    }
   ],
   "source": [
    "Mans = []\n",
    "for sample in samples:\n",
    "    start = time.time()\n",
    "    temp = map(lambda x: test_item_based_cf('bitbootcamp/u.data',1,10,0,numOfUsers,numOfItems,sample,x),sample)\n",
    "    Mans.append(temp)\n",
    "    print time.time()-start"
   ]
  },
  {
   "cell_type": "code",
   "execution_count": 103,
   "metadata": {
    "collapsed": true
   },
   "outputs": [],
   "source": [
    "import pickle \n",
    "\n",
    "with open('Pears.pickle', 'wb') as handle:\n",
    "  pickle.dump(Pears, handle)\n",
    "\n",
    "with open('Mans.pickle', 'wb') as handle:\n",
    "  pickle.dump(Mans, handle)"
   ]
  },
  {
   "cell_type": "code",
   "execution_count": 110,
   "metadata": {
    "collapsed": false
   },
   "outputs": [],
   "source": [
    "ar1 = map(lambda x: sum(map(lambda y: abs(y[0]-y[1]),x)),Pears)\n",
    "ar2 = map(lambda x: sum(map(lambda y: abs(y[0]-y[1]),x)),Mans)"
   ]
  },
  {
   "cell_type": "code",
   "execution_count": 111,
   "metadata": {
    "collapsed": false
   },
   "outputs": [
    {
     "name": "stdout",
     "output_type": "stream",
     "text": [
      "89.78 114.12\n"
     ]
    }
   ],
   "source": [
    "print np.mean(ar1),np.mean(ar2)"
   ]
  },
  {
   "cell_type": "code",
   "execution_count": null,
   "metadata": {
    "collapsed": false
   },
   "outputs": [],
   "source": []
  },
  {
   "cell_type": "code",
   "execution_count": 108,
   "metadata": {
    "collapsed": false
   },
   "outputs": [
    {
     "name": "stdout",
     "output_type": "stream",
     "text": [
      "159.772000074\n",
      "157.041000128\n",
      "156.093999863\n",
      "152.730999947\n",
      "155.187000036\n",
      "153.77699995\n",
      "153.850000143\n",
      "154.318000078\n",
      "157.04399991\n",
      "154.910000086\n",
      "160.407999992\n",
      "163.823999882\n",
      "176.180999994\n",
      "189.596999884\n",
      "184.219000101\n",
      "202.118000031\n",
      "188.421000004\n",
      "188.965999842\n",
      "177.792000055\n",
      "158.768000126\n",
      "165.265999794\n",
      "168.940000057\n",
      "171.594000101\n",
      "168.910000086\n",
      "162.593000174\n",
      "162.873999834\n",
      "162.937000036\n",
      "164.063000202\n",
      "159.370999813\n",
      "159.187999964\n",
      "161.308000088\n",
      "162.519999981\n",
      "159.186000109\n",
      "159.645999908\n",
      "168.414000034\n",
      "159.220999956\n",
      "151.213999987\n",
      "159.163000107\n",
      "155.203999996\n",
      "153.166999817\n",
      "163.804000139\n",
      "164.927000046\n",
      "173.23300004\n",
      "161.525000095\n",
      "151.624000072\n",
      "150.66899991\n",
      "154.305000067\n",
      "154.236000061\n",
      "167.649999857\n",
      "170.620000124\n"
     ]
    }
   ],
   "source": [
    "i1s = []\n",
    "for sample in samples:\n",
    "    start = time.time()\n",
    "    temp = map(lambda x: test_user_based_cf('bitbootcamp/u.data',0,10,1,numOfUsers,numOfItems,sample,x),sample)\n",
    "    i1s.append(temp)\n",
    "    print time.time()-start"
   ]
  },
  {
   "cell_type": "code",
   "execution_count": 114,
   "metadata": {
    "collapsed": true
   },
   "outputs": [],
   "source": [
    "with open('i1s.pickle', 'wb') as handle:\n",
    "    pickle.dump(i1s, handle)"
   ]
  },
  {
   "cell_type": "code",
   "execution_count": 115,
   "metadata": {
    "collapsed": true
   },
   "outputs": [],
   "source": [
    "ar3 = map(lambda x: sum(map(lambda y: abs(y[0]-y[1]),x)),i1s)"
   ]
  },
  {
   "cell_type": "code",
   "execution_count": 116,
   "metadata": {
    "collapsed": false
   },
   "outputs": [
    {
     "name": "stdout",
     "output_type": "stream",
     "text": [
      "336.4\n"
     ]
    }
   ],
   "source": [
    "print np.mean(ar3)"
   ]
  },
  {
   "cell_type": "code",
   "execution_count": 117,
   "metadata": {
    "collapsed": false
   },
   "outputs": [
    {
     "name": "stdout",
     "output_type": "stream",
     "text": [
      "1\n",
      "2\n",
      "4\n",
      "8\n",
      "16\n",
      "32\n"
     ]
    }
   ],
   "source": [
    "ars = [[],[],[],[],[],[]]\n",
    "for i,k in enumerate([1,2,4,8,16,32]):\n",
    "    for sample in samples:\n",
    "        temp = map(lambda x: test_user_based_cf('bitbootcamp/u.data',0,k,0,numOfUsers,numOfItems,sample,x),sample)\n",
    "        ars[i].append(temp)\n",
    "    with open('k'+str(k)+'.pickle', 'wb') as handle:\n",
    "        pickle.dump(ars[i], handle)\n",
    "    print k"
   ]
  },
  {
   "cell_type": "code",
   "execution_count": 118,
   "metadata": {
    "collapsed": false
   },
   "outputs": [
    {
     "name": "stdout",
     "output_type": "stream",
     "text": [
      "104.98\n",
      "114.34\n",
      "103.2\n",
      "93.88\n",
      "90.6\n",
      "93.04\n"
     ]
    }
   ],
   "source": [
    "for ar in ars:\n",
    "    ar = map(lambda x: sum(map(lambda y: abs(y[0]-y[1]),x)),ar)\n",
    "    print np.mean(ar)"
   ]
  },
  {
   "cell_type": "code",
   "execution_count": 131,
   "metadata": {
    "collapsed": false
   },
   "outputs": [
    {
     "name": "stdout",
     "output_type": "stream",
     "text": [
      "t-test for k, only on nearest error\n",
      "Ttest_relResult(statistic=-2.2242600383709203, pvalue=0.030770001374493761)\n",
      "t-test for distance\n",
      "Ttest_relResult(statistic=-16.487875826137561, pvalue=1.2430621262443123e-21)\n",
      "t-test for iFlag\n",
      "Ttest_relResult(statistic=-131.84869255000797, pvalue=3.5592043580406386e-64)\n"
     ]
    }
   ],
   "source": [
    "print 't-test for k, only on nearest error'\n",
    "print stat.ttest_rel( map(lambda x: sum(map(lambda y: abs(y[0]-y[1]),x)),ars[4]),\\\n",
    "                      map(lambda x: sum(map(lambda y: abs(y[0]-y[1]),x)),ars[5]))\n",
    "print 't-test for distance'\n",
    "print stat.ttest_rel(ar1,ar2)\n",
    "print 't-test for iFlag'\n",
    "print stat.ttest_rel(ar1,ar3)"
   ]
  },
  {
   "cell_type": "code",
   "execution_count": 33,
   "metadata": {
    "collapsed": false
   },
   "outputs": [],
   "source": [
    "import pickle\n",
    "import time"
   ]
  },
  {
   "cell_type": "code",
   "execution_count": 41,
   "metadata": {
    "collapsed": false
   },
   "outputs": [
    {
     "name": "stdout",
     "output_type": "stream",
     "text": [
      "124.156999826\n",
      "118.420000076\n",
      "115.614000082\n",
      "118.295000076\n",
      "111.308000088\n",
      "113.337000132\n",
      "127.145000219\n",
      "134.570999861\n",
      "131.869999886\n",
      "136.894000053\n",
      "117.68599987\n",
      "114.810000181\n",
      "124.600999832\n",
      "133.86500001\n",
      "124.694999933\n",
      "117.736000061\n",
      "129.368999958\n",
      "132.612999916\n",
      "128.94299984\n",
      "138.880999804\n",
      "144.541000128\n",
      "137.027999878\n",
      "142.402999878\n",
      "137.46600008\n",
      "125.777000189\n",
      "115.589999914\n",
      "116.433999777\n",
      "111.475999832\n",
      "107.272000074\n",
      "113.088999987\n",
      "110.635999918\n",
      "109.558000088\n",
      "112.441999912\n",
      "115.899000168\n",
      "113.825000048\n",
      "123.257999897\n",
      "119.387000084\n",
      "110.875\n",
      "117.572000027\n",
      "111.896999836\n",
      "115.703999996\n",
      "116.96600008\n",
      "108.940000057\n",
      "107.838999987\n",
      "109.303999901\n",
      "107.086000204\n",
      "107.980999947\n",
      "106.933000088\n",
      "107.710000038\n",
      "107.888999939\n"
     ]
    }
   ],
   "source": [
    "Items = []\n",
    "for sample in samples:\n",
    "    start = time.time()\n",
    "    temp = map(lambda x: test_item_based_cf('bitbootcamp/u.data',0,16,0,numOfUsers,numOfItems,sample,x),sample)\n",
    "    Items.append(temp)\n",
    "    print time.time()-start"
   ]
  },
  {
   "cell_type": "code",
   "execution_count": 42,
   "metadata": {
    "collapsed": true
   },
   "outputs": [],
   "source": [
    "with open('Items.pickle', 'wb') as handle:\n",
    "  pickle.dump(Items, handle)"
   ]
  },
  {
   "cell_type": "code",
   "execution_count": null,
   "metadata": {
    "collapsed": true
   },
   "outputs": [],
   "source": []
  },
  {
   "cell_type": "code",
   "execution_count": 43,
   "metadata": {
    "collapsed": false
   },
   "outputs": [
    {
     "name": "stdout",
     "output_type": "stream",
     "text": [
      "110.766000032\n",
      "108.904999971\n",
      "107.41899991\n",
      "108.843000174\n",
      "107.619999886\n",
      "108.752999783\n",
      "108.654000044\n",
      "110.437000036\n",
      "107.759000063\n",
      "108.103999853\n",
      "109.196000099\n",
      "107.450999975\n",
      "110.259000063\n",
      "110.440000057\n",
      "111.247999907\n",
      "108.792000055\n",
      "109.150000095\n",
      "110.006999969\n",
      "110.570999861\n",
      "109.274000168\n",
      "108.608999968\n",
      "108.381999969\n",
      "107.953000069\n",
      "108.722999811\n",
      "109.925000191\n",
      "109.019000053\n",
      "109.875999928\n",
      "110.638000011\n",
      "108.625\n",
      "108.302000046\n",
      "110.150000095\n",
      "109.314999819\n",
      "108.566000223\n",
      "110.215999842\n",
      "111.9599998\n",
      "109.248000145\n",
      "108.5\n",
      "109.91899991\n",
      "110.559000015\n",
      "109.552999973\n",
      "107.534000158\n",
      "110.822999954\n",
      "111.958999872\n",
      "107.604000092\n",
      "109.029000044\n",
      "109.155999899\n",
      "109.75999999\n",
      "107.546000004\n",
      "111.354000092\n",
      "110.088999987\n"
     ]
    }
   ],
   "source": [
    "Users = []\n",
    "for sample in samples:\n",
    "    start = time.time()\n",
    "    temp = map(lambda x: test_user_based_cf('bitbootcamp/u.data',0,16,0,numOfUsers,numOfItems,sample,x),sample)\n",
    "    Users.append(temp)\n",
    "    print time.time()-start"
   ]
  },
  {
   "cell_type": "code",
   "execution_count": 44,
   "metadata": {
    "collapsed": true
   },
   "outputs": [],
   "source": [
    "with open('Users.pickle', 'wb') as handle:\n",
    "  pickle.dump(Users, handle)"
   ]
  },
  {
   "cell_type": "code",
   "execution_count": null,
   "metadata": {
    "collapsed": true
   },
   "outputs": [],
   "source": []
  },
  {
   "cell_type": "code",
   "execution_count": 45,
   "metadata": {
    "collapsed": true
   },
   "outputs": [],
   "source": [
    "itemar = map(lambda x: sum(map(lambda y: abs(y[0]-y[1]),x)),Items)\n",
    "userar = map(lambda x: sum(map(lambda y: abs(y[0]-y[1]),x)),Users)"
   ]
  },
  {
   "cell_type": "code",
   "execution_count": 46,
   "metadata": {
    "collapsed": false
   },
   "outputs": [
    {
     "name": "stdout",
     "output_type": "stream",
     "text": [
      "t-test for item vs user\n",
      "Ttest_relResult(statistic=-1.7267948533856814, pvalue=0.090504636708728395)\n"
     ]
    }
   ],
   "source": [
    "print 't-test for item vs user'\n",
    "print stat.ttest_rel(itemar,userar)"
   ]
  },
  {
   "cell_type": "code",
   "execution_count": 47,
   "metadata": {
    "collapsed": false
   },
   "outputs": [
    {
     "name": "stdout",
     "output_type": "stream",
     "text": [
      "85.84\n",
      "88.76\n"
     ]
    }
   ],
   "source": [
    "print np.mean(itemar)\n",
    "print np.mean(userar)"
   ]
  },
  {
   "cell_type": "code",
   "execution_count": 49,
   "metadata": {
    "collapsed": false
   },
   "outputs": [],
   "source": [
    "import matplotlib.pyplot as plt\n",
    "%matplotlib inline"
   ]
  },
  {
   "cell_type": "code",
   "execution_count": 72,
   "metadata": {
    "collapsed": false
   },
   "outputs": [
    {
     "data": {
      "image/png": "[encoded data removed]",
      "text/plain": [
       "<matplotlib.figure.Figure at 0x19d0f390>"
      ]
     },
     "metadata": {},
     "output_type": "display_data"
    }
   ],
   "source": [
    "plt.hist(itemar)\n",
    "plt.title('Item based error distribution')\n",
    "plt.xlabel('Mean error')\n",
    "plt.ylabel('Number of samples')\n",
    "plt.savefig('bitbootcamp/itemgraph')"
   ]
  },
  {
   "cell_type": "code",
   "execution_count": 67,
   "metadata": {
    "collapsed": false
   },
   "outputs": [
    {
     "data": {
      "image/png": "[encoded data removed]",
      "text/plain": [
       "<matplotlib.figure.Figure at 0x18360780>"
      ]
     },
     "metadata": {},
     "output_type": "display_data"
    }
   ],
   "source": [
    "plt.hist(userar)\n",
    "plt.title('User based error distribution')\n",
    "plt.xlabel('Mean error')\n",
    "plt.ylabel('Number of samples')\n",
    "plt.savefig('bitbootcamp/usergraph')"
   ]
  },
  {
   "cell_type": "code",
   "execution_count": 68,
   "metadata": {
    "collapsed": false
   },
   "outputs": [
    {
     "data": {
      "image/png": "[encoded data removed]",
      "text/plain": [
       "<matplotlib.figure.Figure at 0x196996d8>"
      ]
     },
     "metadata": {},
     "output_type": "display_data"
    }
   ],
   "source": [
    "ar1 = pickle.load(open('Pears.pickle','rb'))\n",
    "ar1 = map(lambda x: sum(map(lambda y: abs(y[0]-y[1]),x)),ar1)\n",
    "plt.hist(ar1)\n",
    "plt.title('Pearson distance error distribution')\n",
    "plt.xlabel('Mean error')\n",
    "plt.ylabel('Number of samples')\n",
    "plt.savefig('bitbootcamp/Pearsgraph')"
   ]
  },
  {
   "cell_type": "code",
   "execution_count": 69,
   "metadata": {
    "collapsed": false
   },
   "outputs": [
    {
     "data": {
      "image/png": "[encoded data removed]",
      "text/plain": [
       "<matplotlib.figure.Figure at 0x18170b38>"
      ]
     },
     "metadata": {},
     "output_type": "display_data"
    }
   ],
   "source": [
    "ar2 = pickle.load(open('Mans.pickle','rb'))\n",
    "ar2 = map(lambda x: sum(map(lambda y: abs(y[0]-y[1]),x)),ar2)\n",
    "plt.hist(ar2)\n",
    "plt.title('Manhattan distance error distribution')\n",
    "plt.xlabel('Mean error')\n",
    "plt.ylabel('Number of samples')\n",
    "plt.savefig('bitbootcamp/Mansgraph')"
   ]
  },
  {
   "cell_type": "code",
   "execution_count": 70,
   "metadata": {
    "collapsed": false
   },
   "outputs": [
    {
     "data": {
      "image/png": "[encoded data removed]",
      "text/plain": [
       "<matplotlib.figure.Figure at 0x19667e48>"
      ]
     },
     "metadata": {},
     "output_type": "display_data"
    }
   ],
   "source": [
    "ar3 = pickle.load(open('i1s.pickle','rb'))\n",
    "ar3 = map(lambda x: sum(map(lambda y: abs(y[0]-y[1]),x)),ar3)\n",
    "plt.hist(ar3)\n",
    "plt.title('i=1 error distribution')\n",
    "plt.xlabel('Mean error')\n",
    "plt.ylabel('Number of samples')\n",
    "plt.savefig('bitbootcamp/i1sgraph')"
   ]
  },
  {
   "cell_type": "code",
   "execution_count": 71,
   "metadata": {
    "collapsed": false
   },
   "outputs": [
    {
     "data": {
      "image/png": "[encoded data removed]",
      "text/plain": [
       "<matplotlib.figure.Figure at 0x1923beb8>"
      ]
     },
     "metadata": {},
     "output_type": "display_data"
    },
    {
     "data": {
      "image/png": "[encoded data removed]",
      "text/plain": [
       "<matplotlib.figure.Figure at 0x19adaeb8>"
      ]
     },
     "metadata": {},
     "output_type": "display_data"
    },
    {
     "data": {
      "image/png": "[encoded data removed]",
      "text/plain": [
       "<matplotlib.figure.Figure at 0x19fb7e48>"
      ]
     },
     "metadata": {},
     "output_type": "display_data"
    },
    {
     "data": {
      "image/png": "[encoded data removed]",
      "text/plain": [
       "<matplotlib.figure.Figure at 0x1a06c780>"
      ]
     },
     "metadata": {},
     "output_type": "display_data"
    },
    {
     "data": {
      "image/png": "[encoded data removed]",
      "text/plain": [
       "<matplotlib.figure.Figure at 0x1a6b5d68>"
      ]
     },
     "metadata": {},
     "output_type": "display_data"
    },
    {
     "data": {
      "image/png": "[encoded data removed]",
      "text/plain": [
       "<matplotlib.figure.Figure at 0x1a6ab9b0>"
      ]
     },
     "metadata": {},
     "output_type": "display_data"
    }
   ],
   "source": [
    "for k in [1,2,4,8,16,32]:\n",
    "    ar = pickle.load(open('k'+str(k)+'.pickle','rb'))\n",
    "    ar = map(lambda x: sum(map(lambda y: abs(y[0]-y[1]),x)),ar)\n",
    "    plt.hist(ar)\n",
    "    plt.title('k='+str(k)+' error distribution')\n",
    "    plt.xlabel('Mean error')\n",
    "    plt.ylabel('Number of samples')\n",
    "    plt.savefig('bitbootcamp/k'+str(k)+'graph')\n",
    "    plt.show()"
   ]
  },
  {
   "cell_type": "code",
   "execution_count": null,
   "metadata": {
    "collapsed": true
   },
   "outputs": [],
   "source": []
  }
 ],
 "metadata": {
  "kernelspec": {
   "display_name": "Python 2",
   "language": "python",
   "name": "python2"
  },
  "language_info": {
   "codemirror_mode": {
    "name": "ipython",
    "version": 2
   },
   "file_extension": ".py",
   "mimetype": "text/x-python",
   "name": "python",
   "nbconvert_exporter": "python",
   "pygments_lexer": "ipython2",
   "version": "2.7.11"
  }
 },
 "nbformat": 4,
 "nbformat_minor": 0
}

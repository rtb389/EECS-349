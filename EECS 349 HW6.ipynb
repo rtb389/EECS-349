{
 "cells": [
  {
   "cell_type": "code",
   "execution_count": 3,
   "metadata": {
    "collapsed": false
   },
   "outputs": [
    {
     "name": "stdout",
     "output_type": "stream",
     "text": [
      "Class 1\n",
      "mu ="
     ]
    },
    {
     "ename": "NameError",
     "evalue": "global name 'mu_results1' is not defined",
     "output_type": "error",
     "traceback": [
      "\u001b[1;31m---------------------------------------------------------------------------\u001b[0m",
      "\u001b[1;31mNameError\u001b[0m                                 Traceback (most recent call last)",
      "\u001b[1;32m<ipython-input-3-c2fdf034a478>\u001b[0m in \u001b[0;36m<module>\u001b[1;34m()\u001b[0m\n\u001b[0;32m     78\u001b[0m \u001b[1;33m\u001b[0m\u001b[0m\n\u001b[0;32m     79\u001b[0m \u001b[1;32mif\u001b[0m \u001b[0m__name__\u001b[0m \u001b[1;33m==\u001b[0m \u001b[1;34m'__main__'\u001b[0m\u001b[1;33m:\u001b[0m\u001b[1;33m\u001b[0m\u001b[0m\n\u001b[1;32m---> 80\u001b[1;33m     \u001b[0mmain\u001b[0m\u001b[1;33m(\u001b[0m\u001b[1;33m)\u001b[0m\u001b[1;33m\u001b[0m\u001b[0m\n\u001b[0m",
      "\u001b[1;32m<ipython-input-3-c2fdf034a478>\u001b[0m in \u001b[0;36mmain\u001b[1;34m()\u001b[0m\n\u001b[0;32m     24\u001b[0m     \u001b[1;31m# with learned parameters from Class 1\u001b[0m\u001b[1;33m\u001b[0m\u001b[1;33m\u001b[0m\u001b[0m\n\u001b[0;32m     25\u001b[0m     \u001b[1;32mprint\u001b[0m \u001b[1;34m'Class 1'\u001b[0m\u001b[1;33m\u001b[0m\u001b[0m\n\u001b[1;32m---> 26\u001b[1;33m     \u001b[1;32mprint\u001b[0m \u001b[1;34m'mu ='\u001b[0m\u001b[1;33m,\u001b[0m \u001b[0mmu_results1\u001b[0m\u001b[1;33m,\u001b[0m \u001b[1;34m'\\nsigma^2 ='\u001b[0m\u001b[1;33m,\u001b[0m \u001b[0msigma2_results1\u001b[0m\u001b[1;33m,\u001b[0m \u001b[1;34m'\\nw ='\u001b[0m\u001b[1;33m,\u001b[0m \u001b[0mw_results1\u001b[0m\u001b[1;33m\u001b[0m\u001b[0m\n\u001b[0m\u001b[0;32m     27\u001b[0m \u001b[1;33m\u001b[0m\u001b[0m\n\u001b[0;32m     28\u001b[0m     \u001b[1;31m# mu_results2, sigma2_results2, w_results2 are all numpy arrays\u001b[0m\u001b[1;33m\u001b[0m\u001b[1;33m\u001b[0m\u001b[0m\n",
      "\u001b[1;31mNameError\u001b[0m: global name 'mu_results1' is not defined"
     ]
    }
   ],
   "source": [
    "#!/usr/bin/env python\n",
    "# -*- coding: utf-8 -*-\n",
    "from __future__ import division\n",
    "import numpy as np\n",
    "import sys\n",
    "import matplotlib.pyplot as plt\n",
    "\n",
    "\n",
    "def main():\n",
    "    \"\"\"\n",
    "    This function runs your code for problem 2.\n",
    "\n",
    "    You can also use this to test your code for problem 1,\n",
    "    but make sure that you do not leave anything in here that will interfere\n",
    "    with problem 2. Especially make sure that gmm_est does not output anything\n",
    "    extraneous, as problem 2 has a very specific expected output.\n",
    "    \"\"\"\n",
    "    file_path = sys.argv[1]\n",
    "\n",
    "    # YOUR CODE FOR PROBLEM 2 GOES HERE\n",
    "\n",
    "\n",
    "    # mu_results1, sigma2_results1, w_results1 are all numpy arrays\n",
    "    # with learned parameters from Class 1\n",
    "    print 'Class 1'\n",
    "    print 'mu =', mu_results1, '\\nsigma^2 =', sigma2_results1, '\\nw =', w_results1\n",
    "\n",
    "    # mu_results2, sigma2_results2, w_results2 are all numpy arrays\n",
    "    # with learned parameters from Class 2\n",
    "    print '\\nClass 2'\n",
    "    print 'mu =', mu_results2, '\\nsigma^2 =', sigma2_results2, '\\nw =', w_results2\n",
    "\n",
    "\n",
    "def gmm_est(X, mu_init, sigmasq_init, wt_init, its):\n",
    "    \"\"\"\n",
    "    Input Parameters:\n",
    "      - X             : N 1-dimensional data points (a 1-by-N numpy array)\n",
    "      - mu_init       : initial means of K Gaussian components (a 1-by-K numpy array)\n",
    "      - sigmasq_init  : initial  variances of K Gaussian components (a 1-by-K numpy array)\n",
    "      - wt_init       : initial weights of k Gaussian components (a 1-by-K numpy array that sums to 1)\n",
    "      - its           : number of iterations for the EM algorithm\n",
    "\n",
    "    Returns:\n",
    "      - mu            : means of Gaussian components (a 1-by-K numpy array)\n",
    "      - sigmasq       : variances of Gaussian components (a 1-by-K numpy array)\n",
    "      - wt            : weights of Gaussian components (a 1-by-K numpy array, sums to 1)\n",
    "      - L             : log likelihood\n",
    "    \"\"\"\n",
    "\n",
    "    # YOUR CODE FOR PROBLEM 1 HERE\n",
    "\n",
    "    return mu, sigmasq, wt, L\n",
    "\n",
    "\n",
    "def read_gmm_file(path_to_file):\n",
    "    \"\"\"\n",
    "    Reads either gmm_test.csv or gmm_train.csv\n",
    "    :param path_to_file: path to .csv file\n",
    "    :return: two numpy arrays for data with label 1 (X1) and data with label 2 (X2)\n",
    "    \"\"\"\n",
    "    X1 = []\n",
    "    X2 = []\n",
    "\n",
    "    data = open(path_to_file).readlines()[1:] # we don't need the first line\n",
    "    for d in data:\n",
    "        d = d.split(',')\n",
    "\n",
    "        # We know the data is either class 1 or class 2\n",
    "        if int(d[1]) == 1:\n",
    "            X1.append(float(d[0]))\n",
    "        else:\n",
    "            X2.append(float(d[0]))\n",
    "\n",
    "    X1 = np.array(X1)\n",
    "    X2 = np.array(X2)\n",
    "\n",
    "    return X1, X2\n",
    "\n",
    "if __name__ == '__main__':\n",
    "    main()\n"
   ]
  },
  {
   "cell_type": "code",
   "execution_count": 1,
   "metadata": {
    "collapsed": true
   },
   "outputs": [],
   "source": [
    "import scipy.stats as stat"
   ]
  },
  {
   "cell_type": "code",
   "execution_count": 2,
   "metadata": {
    "collapsed": false
   },
   "outputs": [],
   "source": [
    "def gmm_est(X, mu_init, sigmasq_init, wt_init, its):\n",
    "    \"\"\"\n",
    "    Input Parameters:\n",
    "      - X             : N 1-dimensional data points (a 1-by-N numpy array)\n",
    "      - mu_init       : initial means of K Gaussian components (a 1-by-K numpy array)\n",
    "      - sigmasq_init  : initial  variances of K Gaussian components (a 1-by-K numpy array)\n",
    "      - wt_init       : initial weights of k Gaussian components (a 1-by-K numpy array that sums to 1)\n",
    "      - its           : number of iterations for the EM algorithm\n",
    "\n",
    "    Returns:\n",
    "      - mu            : means of Gaussian components (a 1-by-K numpy array)\n",
    "      - sigmasq       : variances of Gaussian components (a 1-by-K numpy array)\n",
    "      - wt            : weights of Gaussian components (a 1-by-K numpy array, sums to 1)\n",
    "      - L             : log likelihood\n",
    "    \"\"\"\n",
    "\n",
    "    # YOUR CODE FOR PROBLEM 1 HERE\n",
    "    \n",
    "    #Put this here since I want to use L for each iteration\n",
    "    L = 0\n",
    "    for i in range(len(X)):\n",
    "        acc = 0\n",
    "        for j in range(len(mu_init)):\n",
    "            acc += wt_init[j]*stat.norm(mu_init[j],np.sqrt(sigmasq_init[j])).pdf(X[i])\n",
    "        L+= np.log(acc)\n",
    "        \n",
    "    global logs\n",
    "    logs.append(L)\n",
    "            \n",
    "    if its == 0:\n",
    "        return mu_init, sigmasq_init, wt_init, L\n",
    "    \n",
    "    #Calculate the responsibilities of each Gaussian\n",
    "    #This will be an array of arrays\n",
    "    gammas = []\n",
    "    \n",
    "    for i in range(len(mu_init)):\n",
    "        gamma = []\n",
    "        for k in range(len(X)):\n",
    "            acc = 0\n",
    "            for j in range(len(mu_init)):\n",
    "                acc += wt_init[j]*stat.norm(mu_init[j],np.sqrt(sigmasq_init[j])).pdf(X[k])\n",
    "            gamma.append(float(wt_init[i]*stat.norm(mu_init[i],np.sqrt(sigmasq_init[i])).pdf(X[k]))/acc)\n",
    "        gammas.append(np.array(gamma))\n",
    "    \n",
    "    new_w = []\n",
    "    new_mu = []\n",
    "    new_sig = []\n",
    "    \n",
    "    for n in range(len(gammas)):\n",
    "        gamma = float(sum(gammas[n]))\n",
    "        new_w.append(gamma/len(X))\n",
    "        new_mu.append(sum(np.array(gammas[n])*X)/gamma)\n",
    "        new_sig.append(sum(np.array(gammas[n])*(X-new_mu[n])**2)/gamma)\n",
    "        \n",
    "    return gmm_est(X,np.array(new_mu),np.array(new_sig), np.array(new_w),its-1)"
   ]
  },
  {
   "cell_type": "code",
   "execution_count": 20,
   "metadata": {
    "collapsed": false
   },
   "outputs": [
    {
     "data": {
      "text/html": [
       "<div>\n",
       "<table border=\"1\" class=\"dataframe\">\n",
       "  <thead>\n",
       "    <tr style=\"text-align: right;\">\n",
       "      <th></th>\n",
       "      <th>X_train</th>\n",
       "      <th>Y_train</th>\n",
       "    </tr>\n",
       "  </thead>\n",
       "  <tbody>\n",
       "    <tr>\n",
       "      <th>0</th>\n",
       "      <td>6.3989</td>\n",
       "      <td>1</td>\n",
       "    </tr>\n",
       "    <tr>\n",
       "      <th>1</th>\n",
       "      <td>7.1864</td>\n",
       "      <td>1</td>\n",
       "    </tr>\n",
       "    <tr>\n",
       "      <th>2</th>\n",
       "      <td>31.3500</td>\n",
       "      <td>1</td>\n",
       "    </tr>\n",
       "    <tr>\n",
       "      <th>3</th>\n",
       "      <td>30.1530</td>\n",
       "      <td>1</td>\n",
       "    </tr>\n",
       "    <tr>\n",
       "      <th>4</th>\n",
       "      <td>15.0770</td>\n",
       "      <td>1</td>\n",
       "    </tr>\n",
       "  </tbody>\n",
       "</table>\n",
       "</div>"
      ],
      "text/plain": [
       "   X_train   Y_train\n",
       "0   6.3989         1\n",
       "1   7.1864         1\n",
       "2  31.3500         1\n",
       "3  30.1530         1\n",
       "4  15.0770         1"
      ]
     },
     "execution_count": 20,
     "metadata": {},
     "output_type": "execute_result"
    }
   ],
   "source": [
    "import pandas as pd\n",
    "df = pd.read_csv('bitbootcamp/gmm_train.csv')\n",
    "df.head()"
   ]
  },
  {
   "cell_type": "code",
   "execution_count": 26,
   "metadata": {
    "collapsed": false
   },
   "outputs": [
    {
     "data": {
      "text/plain": [
       "<matplotlib.collections.PathCollection at 0xb1145f8>"
      ]
     },
     "execution_count": 26,
     "metadata": {},
     "output_type": "execute_result"
    },
    {
     "data": {
      "image/png": "[encoded data removed]",
      "text/plain": [
       "<matplotlib.figure.Figure at 0x9f93f98>"
      ]
     },
     "metadata": {},
     "output_type": "display_data"
    }
   ],
   "source": [
    "import matplotlib.pyplot as plt\n",
    "%matplotlib inline\n",
    "plt.figure(figsize=(20,10))\n",
    "plt.scatter(df['X_train'],df[' Y_train'])"
   ]
  },
  {
   "cell_type": "code",
   "execution_count": 7,
   "metadata": {
    "collapsed": false
   },
   "outputs": [],
   "source": [
    "X1, X2 = read_gmm_file('bitbootcamp/gmm_train.csv')"
   ]
  },
  {
   "cell_type": "code",
   "execution_count": 8,
   "metadata": {
    "collapsed": false
   },
   "outputs": [
    {
     "name": "stdout",
     "output_type": "stream",
     "text": [
      "1000\n",
      "2000\n"
     ]
    }
   ],
   "source": [
    "print len(X1)\n",
    "print len(X2)"
   ]
  },
  {
   "cell_type": "code",
   "execution_count": 130,
   "metadata": {
    "collapsed": false
   },
   "outputs": [],
   "source": [
    "est1 = gmm_est(X1, np.array([10,30]),np.array([9,9]),np.array([0.75,0.25]),50)\n",
    "est2 = gmm_est(X2, np.array([-25,-5,50]),np.array([4,9,9,25]),np.array([0.16,0.33,0.51]),50)"
   ]
  },
  {
   "cell_type": "code",
   "execution_count": 129,
   "metadata": {
    "collapsed": false
   },
   "outputs": [],
   "source": [
    "logs = []"
   ]
  },
  {
   "cell_type": "code",
   "execution_count": 346,
   "metadata": {
    "collapsed": false
   },
   "outputs": [
    {
     "data": {
      "image/png": "[encoded data removed]",
      "text/plain": [
       "<matplotlib.figure.Figure at 0xf014ac8>"
      ]
     },
     "metadata": {},
     "output_type": "display_data"
    }
   ],
   "source": [
    "plt.plot(range(21),logs[:21])\n",
    "plt.ylabel('Log likelihood')\n",
    "plt.xlabel('iteration')\n",
    "plt.savefig('likelihood_class1.png')"
   ]
  },
  {
   "cell_type": "code",
   "execution_count": 345,
   "metadata": {
    "collapsed": false
   },
   "outputs": [
    {
     "data": {
      "image/png": "[encoded data removed]",
      "text/plain": [
       "<matplotlib.figure.Figure at 0xce2ac50>"
      ]
     },
     "metadata": {},
     "output_type": "display_data"
    }
   ],
   "source": [
    "plt.plot(range(21),logs[51:72])\n",
    "plt.ylabel('Log likelihood')\n",
    "plt.xlabel('iteration')\n",
    "plt.savefig('likelihood_class2.png')"
   ]
  },
  {
   "cell_type": "code",
   "execution_count": 83,
   "metadata": {
    "collapsed": false
   },
   "outputs": [
    {
     "data": {
      "image/png": "[encoded data removed]",
      "text/plain": [
       "<matplotlib.figure.Figure at 0xb95e5f8>"
      ]
     },
     "metadata": {},
     "output_type": "display_data"
    }
   ],
   "source": [
    "bins = 50\n",
    "plt.subplot(2,1,1)\n",
    "plt.hist(X1,50)\n",
    "plt.subplot(2,1,2)\n",
    "plt.hist(X2,50)\n",
    "plt.show()"
   ]
  },
  {
   "cell_type": "code",
   "execution_count": 139,
   "metadata": {
    "collapsed": false
   },
   "outputs": [
    {
     "name": "stdout",
     "output_type": "stream",
     "text": [
      "(array([  9.77488592,  29.58258718]), array([ 21.92280456,   9.78376961]), array([ 0.59765463,  0.40234537]), -3458.6952727641597)\n",
      "(array([-24.82275173,  -5.06015828,  49.62444472]), array([   7.94733541,   23.32266181,  100.0243375 ]), array([ 0.20364946,  0.49884302,  0.29750752]), -8246.0689866275679)\n"
     ]
    }
   ],
   "source": [
    "print est1\n",
    "print est2"
   ]
  },
  {
   "cell_type": "code",
   "execution_count": 140,
   "metadata": {
    "collapsed": false
   },
   "outputs": [
    {
     "name": "stdout",
     "output_type": "stream",
     "text": [
      "[-3458.6952727641597, -3458.6952727641606, -3458.6952727641597, -3458.6952727641606, -3458.6952727641597, -3458.6952727641606, -3458.6952727641597, -3458.6952727641606, -3458.6952727641597, -3458.6952727641606]\n",
      "[-8246.0689866275679, -8246.0689866275679, -8246.0689866275679, -8246.0689866275679, -8246.0689866275679, -8246.0689866275679, -8246.0689866275679, -8246.0689866275679, -8246.0689866275679, -8246.0689866275679]\n"
     ]
    }
   ],
   "source": [
    "print logs[40:50]\n",
    "print logs[90:100]"
   ]
  },
  {
   "cell_type": "code",
   "execution_count": null,
   "metadata": {
    "collapsed": false
   },
   "outputs": [],
   "source": []
  },
  {
   "cell_type": "code",
   "execution_count": 4,
   "metadata": {
    "collapsed": false
   },
   "outputs": [
    {
     "ename": "ImportError",
     "evalue": "No module named gmm_est",
     "output_type": "error",
     "traceback": [
      "\u001b[1;31m---------------------------------------------------------------------------\u001b[0m",
      "\u001b[1;31mImportError\u001b[0m                               Traceback (most recent call last)",
      "\u001b[1;32m<ipython-input-4-48917e7f9629>\u001b[0m in \u001b[0;36m<module>\u001b[1;34m()\u001b[0m\n\u001b[0;32m      3\u001b[0m \u001b[1;32mimport\u001b[0m \u001b[0msys\u001b[0m\u001b[1;33m\u001b[0m\u001b[0m\n\u001b[0;32m      4\u001b[0m \u001b[1;32mimport\u001b[0m \u001b[0mmatplotlib\u001b[0m\u001b[1;33m.\u001b[0m\u001b[0mpyplot\u001b[0m \u001b[1;32mas\u001b[0m \u001b[0mplt\u001b[0m\u001b[1;33m\u001b[0m\u001b[0m\n\u001b[1;32m----> 5\u001b[1;33m \u001b[1;32mfrom\u001b[0m \u001b[0mgmm_est\u001b[0m \u001b[1;32mimport\u001b[0m \u001b[0mgmm_est\u001b[0m\u001b[1;33m\u001b[0m\u001b[0m\n\u001b[0m\u001b[0;32m      6\u001b[0m \u001b[1;33m\u001b[0m\u001b[0m\n\u001b[0;32m      7\u001b[0m \u001b[1;33m\u001b[0m\u001b[0m\n",
      "\u001b[1;31mImportError\u001b[0m: No module named gmm_est"
     ]
    }
   ],
   "source": [
    "from __future__ import division\n",
    "import numpy as np\n",
    "import sys\n",
    "import matplotlib.pyplot as plt\n",
    "from gmm_est import gmm_est\n",
    "\n",
    "\n",
    "def main():\n",
    "    \"\"\"\n",
    "    This function runs your code for problem 3.\n",
    "\n",
    "    You can use this code for problem 4, but make sure you do not\n",
    "    interfere with what you need to do for problem 3.\n",
    "    \"\"\"\n",
    "    file_path = sys.argv[1]\n",
    "\n",
    "    # YOUR CODE FOR PROBLEM 3 GOES HERE\n",
    "\n",
    "    # class1_data is a numpy array containing\n",
    "    # all of the data points that your gmm classifier\n",
    "    # predicted will be in class 1.\n",
    "    print 'Class 1'\n",
    "    print class1_data\n",
    "\n",
    "    # class2_data is a numpy array containing\n",
    "    # all of the data points that your gmm classifier\n",
    "    # predicted will be in class 2.\n",
    "    print '\\nClass 2'\n",
    "    print class2_data\n",
    "\n",
    "\n",
    "def gmm_classify(X, mu1, sigmasq1, wt1, mu2, sigmasq2, wt2, p1):\n",
    "    \"\"\"\n",
    "    Input Parameters:\n",
    "        - X           : N 1-dimensional data points (a 1-by-N numpy array)\n",
    "        - mu1         : means of Gaussian components of the 1st class (a 1-by-K1 numpy array)\n",
    "        - sigmasq1    : variances of Gaussian components of the 1st class (a 1-by-K1 numpy array)\n",
    "        - wt1         : weights of Gaussian components of the 1st class (a 1-by-K1 numpy array, sums to 1)\n",
    "        - mu2         : means of Gaussian components of the 2nd class (a 1-by-K2 numpy array)\n",
    "        - sigmasq2    : variances of Gaussian components of the 2nd class (a 1-by-K2 numpy array)\n",
    "        - wt2         : weights of Gaussian components of the 2nd class (a 1-by-K2 numpy array, sums to 1)\n",
    "        - p1          : the prior probability of class 1.\n",
    "\n",
    "    Returns:\n",
    "        - class_pred  : a numpy array containing results from the gmm classifier\n",
    "                        (the results array should be in the same order as the input data points)\n",
    "    \"\"\"\n",
    "\n",
    "    # YOUR CODE FOR PROBLEM 3 HERE\n",
    "\n",
    "    return class_pred\n",
    "\n",
    "\n",
    "def read_gmm_file(path_to_file):\n",
    "    \"\"\"\n",
    "    Reads either gmm_test.csv or gmm_train.csv\n",
    "    :param path_to_file: path to .csv file\n",
    "    :return: two numpy arrays for data with label 1 (X1) and data with label 2 (X2)\n",
    "    \"\"\"\n",
    "    X1 = []\n",
    "    X2 = []\n",
    "\n",
    "    data = open(path_to_file).readlines()[1:] # we don't need the first line\n",
    "    for d in data:\n",
    "        d = d.split(',')\n",
    "\n",
    "        # We know the data is either class 1 or class 2\n",
    "        if int(d[1]) == 1:\n",
    "            X1.append(float(d[0]))\n",
    "        else:\n",
    "            X2.append(float(d[0]))\n",
    "\n",
    "    X1 = np.array(X1)\n",
    "    X2 = np.array(X2)\n",
    "\n",
    "    return X1, X2\n",
    "\n",
    "if __name__ == '__main__':\n",
    "    main()"
   ]
  },
  {
   "cell_type": "code",
   "execution_count": null,
   "metadata": {
    "collapsed": true
   },
   "outputs": [],
   "source": [
    "import scipy.stats as stat"
   ]
  },
  {
   "cell_type": "code",
   "execution_count": 5,
   "metadata": {
    "collapsed": false
   },
   "outputs": [
    {
     "name": "stdout",
     "output_type": "stream",
     "text": [
      "\n"
     ]
    }
   ],
   "source": [
    "def gmm_classify(X, mu1, sigmasq1, wt1, mu2, sigmasq2, wt2, p1):\n",
    "    \"\"\"\n",
    "    Input Parameters:\n",
    "        - X           : N 1-dimensional data points (a 1-by-N numpy array)\n",
    "        - mu1         : means of Gaussian components of the 1st class (a 1-by-K1 numpy array)\n",
    "        - sigmasq1    : variances of Gaussian components of the 1st class (a 1-by-K1 numpy array)\n",
    "        - wt1         : weights of Gaussian components of the 1st class (a 1-by-K1 numpy array, sums to 1)\n",
    "        - mu2         : means of Gaussian components of the 2nd class (a 1-by-K2 numpy array)\n",
    "        - sigmasq2    : variances of Gaussian components of the 2nd class (a 1-by-K2 numpy array)\n",
    "        - wt2         : weights of Gaussian components of the 2nd class (a 1-by-K2 numpy array, sums to 1)\n",
    "        - p1          : the prior probability of class 1.\n",
    "\n",
    "    Returns:\n",
    "        - class_pred  : a numpy array containing results from the gmm classifier\n",
    "                        (the results array should be in the same order as the input data points)\n",
    "    \"\"\"\n",
    "\n",
    "    # YOUR CODE FOR PROBLEM 3 HERE\n",
    "    class_pred = []\n",
    "    for x in X:\n",
    "        prob1 = 0\n",
    "        prob2 = 0\n",
    "        \n",
    "        for i in range(len(mu1)):\n",
    "            prob1+=wt1[i]*stat.norm(mu1[i],np.sqrt(sigmasq1[i])).pdf(x)\n",
    "        for j in range(len(mu1)):\n",
    "            prob2+=wt2[j]*stat.norm(mu2[j],np.sqrt(sigmasq2[j])).pdf(x)\n",
    "            \n",
    "        if p1*prob1>(1-p1)*prob2:\n",
    "            class_pred.append(1)\n",
    "        else:\n",
    "            class_pred.append(2)\n",
    "\n",
    "    return np.array(class_pred)"
   ]
  },
  {
   "cell_type": "code",
   "execution_count": 6,
   "metadata": {
    "collapsed": false
   },
   "outputs": [
    {
     "ename": "NameError",
     "evalue": "name 'est1' is not defined",
     "output_type": "error",
     "traceback": [
      "\u001b[1;31m---------------------------------------------------------------------------\u001b[0m",
      "\u001b[1;31mNameError\u001b[0m                                 Traceback (most recent call last)",
      "\u001b[1;32m<ipython-input-6-e8221052b137>\u001b[0m in \u001b[0;36m<module>\u001b[1;34m()\u001b[0m\n\u001b[0;32m      1\u001b[0m \u001b[0mtest1\u001b[0m\u001b[1;33m,\u001b[0m\u001b[0mtest2\u001b[0m \u001b[1;33m=\u001b[0m \u001b[0mread_gmm_file\u001b[0m\u001b[1;33m(\u001b[0m\u001b[1;34m'bitbootcamp/gmm_test.csv'\u001b[0m\u001b[1;33m)\u001b[0m\u001b[1;33m\u001b[0m\u001b[0m\n\u001b[1;32m----> 2\u001b[1;33m \u001b[0mC\u001b[0m \u001b[1;33m=\u001b[0m \u001b[0mgmm_classify\u001b[0m\u001b[1;33m(\u001b[0m\u001b[0mnp\u001b[0m\u001b[1;33m.\u001b[0m\u001b[0mappend\u001b[0m\u001b[1;33m(\u001b[0m\u001b[0mtest1\u001b[0m\u001b[1;33m,\u001b[0m\u001b[0mtest2\u001b[0m\u001b[1;33m)\u001b[0m\u001b[1;33m,\u001b[0m\u001b[0mest1\u001b[0m\u001b[1;33m[\u001b[0m\u001b[1;36m0\u001b[0m\u001b[1;33m]\u001b[0m\u001b[1;33m,\u001b[0m\u001b[0mest1\u001b[0m\u001b[1;33m[\u001b[0m\u001b[1;36m1\u001b[0m\u001b[1;33m]\u001b[0m\u001b[1;33m,\u001b[0m\u001b[0mest1\u001b[0m\u001b[1;33m[\u001b[0m\u001b[1;36m2\u001b[0m\u001b[1;33m]\u001b[0m\u001b[1;33m,\u001b[0m\u001b[0mest2\u001b[0m\u001b[1;33m[\u001b[0m\u001b[1;36m0\u001b[0m\u001b[1;33m]\u001b[0m\u001b[1;33m,\u001b[0m\u001b[0mest2\u001b[0m\u001b[1;33m[\u001b[0m\u001b[1;36m1\u001b[0m\u001b[1;33m]\u001b[0m\u001b[1;33m,\u001b[0m\u001b[0mest2\u001b[0m\u001b[1;33m[\u001b[0m\u001b[1;36m2\u001b[0m\u001b[1;33m]\u001b[0m\u001b[1;33m,\u001b[0m\u001b[0mlen\u001b[0m\u001b[1;33m(\u001b[0m\u001b[0mX1\u001b[0m\u001b[1;33m)\u001b[0m\u001b[1;33m/\u001b[0m\u001b[0mfloat\u001b[0m\u001b[1;33m(\u001b[0m\u001b[0mlen\u001b[0m\u001b[1;33m(\u001b[0m\u001b[0mX1\u001b[0m\u001b[1;33m)\u001b[0m\u001b[1;33m+\u001b[0m\u001b[0mlen\u001b[0m\u001b[1;33m(\u001b[0m\u001b[0mX2\u001b[0m\u001b[1;33m)\u001b[0m\u001b[1;33m)\u001b[0m\u001b[1;33m)\u001b[0m\u001b[1;33m\u001b[0m\u001b[0m\n\u001b[0m",
      "\u001b[1;31mNameError\u001b[0m: name 'est1' is not defined"
     ]
    }
   ],
   "source": [
    "test1,test2 = read_gmm_file('bitbootcamp/gmm_test.csv')\n",
    "C = gmm_classify(np.append(test1,test2),est1[0],est1[1],est1[2],est2[0],est2[1],est2[2],len(X1)/float(len(X1)+len(X2)))"
   ]
  },
  {
   "cell_type": "code",
   "execution_count": 306,
   "metadata": {
    "collapsed": false
   },
   "outputs": [],
   "source": [
    "eq = (C == np.append(np.ones(len(test1)),np.ones(len(test2))*2))"
   ]
  },
  {
   "cell_type": "code",
   "execution_count": 347,
   "metadata": {
    "collapsed": false
   },
   "outputs": [
    {
     "name": "stdout",
     "output_type": "stream",
     "text": [
      "1131\n",
      "369\n",
      "0.754\n"
     ]
    }
   ],
   "source": [
    "print len(filter(lambda x: x,eq))\n",
    "print len(filter(lambda x: not x, eq))\n",
    "print len(filter(lambda x: x, eq))/float(len(eq))"
   ]
  },
  {
   "cell_type": "code",
   "execution_count": null,
   "metadata": {
    "collapsed": false
   },
   "outputs": [],
   "source": []
  },
  {
   "cell_type": "code",
   "execution_count": 344,
   "metadata": {
    "collapsed": false
   },
   "outputs": [
    {
     "data": {
      "image/png": "[encoded data removed]",
      "text/plain": [
       "<matplotlib.figure.Figure at 0xf050630>"
      ]
     },
     "metadata": {},
     "output_type": "display_data"
    }
   ],
   "source": [
    "Y1 = np.ones(len(test1))\n",
    "Y2 = np.ones(len(test2))*2\n",
    "new_x,new_y = zip(*sorted(zip(np.append(test1,test2),np.append(Y1,Y2))))\n",
    "\n",
    "plt.figure(figsize=(20,10))\n",
    "n, bins, patches = plt.hist(new_x,bins = 50)\n",
    "\n",
    "colors = []\n",
    "pos = 0\n",
    "for i in range(len(n)): \n",
    "    num_1 = len(filter(lambda x: x==1,new_y[pos:int(pos+n[i])]))\n",
    "    num_2 = n[i]-num_1\n",
    "\n",
    "    if (num_1 > num_2):\n",
    "        colors.append('b')\n",
    "    else:\n",
    "        colors.append('r')\n",
    "        \n",
    "    pos += int(n[i])\n",
    "\n",
    "    \n",
    "for c, p in zip(colors, patches):\n",
    "    plt.setp(p, 'facecolor', c)\n",
    "#Doing dumb shit since I don't know how to make legends correctly\n",
    "s = plt.scatter(new_x[:-1],np.zeros(len(C)-1),20,c=map(lambda x: 'b' if x==1 else 'r',C[:-1]),clip_on=False,zorder=5,linewidth=0.5)\n",
    "t = plt.scatter(new_x[-1:],np.zeros(1),20,c=map(lambda x: 'b' if x==1 else 'r',C[-1:]),clip_on=False,zorder=5,linewidth=0.5)\n",
    "plt.ylim(0)\n",
    "plt.xlabel('X-value')\n",
    "plt.ylabel('count')\n",
    "plt.title('True and predicted classes via gmm')\n",
    "#input this manually since I have no idea how to do so otherwise\n",
    "plt.legend([patches[0],patches[16],t,s],['predictedClass2','predictedClass1','trueClass2','trueClass1'],loc='upper right')\n",
    "plt.savefig('Classification.png')"
   ]
  },
  {
   "cell_type": "code",
   "execution_count": null,
   "metadata": {
    "collapsed": false
   },
   "outputs": [],
   "source": []
  },
  {
   "cell_type": "code",
   "execution_count": null,
   "metadata": {
    "collapsed": false
   },
   "outputs": [],
   "source": []
  },
  {
   "cell_type": "code",
   "execution_count": null,
   "metadata": {
    "collapsed": false
   },
   "outputs": [],
   "source": []
  },
  {
   "cell_type": "code",
   "execution_count": null,
   "metadata": {
    "collapsed": true
   },
   "outputs": [],
   "source": []
  }
 ],
 "metadata": {
  "kernelspec": {
   "display_name": "Python 2",
   "language": "python",
   "name": "python2"
  },
  "language_info": {
   "codemirror_mode": {
    "name": "ipython",
    "version": 2
   },
   "file_extension": ".py",
   "mimetype": "text/x-python",
   "name": "python",
   "nbconvert_exporter": "python",
   "pygments_lexer": "ipython2",
   "version": "2.7.11"
  }
 },
 "nbformat": 4,
 "nbformat_minor": 0
}
